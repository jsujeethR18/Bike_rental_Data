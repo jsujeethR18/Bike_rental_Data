{
 "cells": [
  {
   "cell_type": "markdown",
   "id": "1342e84e",
   "metadata": {
    "papermill": {
     "duration": 0.023521,
     "end_time": "2023-10-02T02:41:24.248000",
     "exception": false,
     "start_time": "2023-10-02T02:41:24.224479",
     "status": "completed"
    },
    "tags": []
   },
   "source": [
    "#  Notebook Overview"
   ]
  },
  {
   "cell_type": "markdown",
   "id": "f26c1b4f",
   "metadata": {
    "papermill": {
     "duration": 0.022372,
     "end_time": "2023-10-02T02:41:24.292576",
     "exception": false,
     "start_time": "2023-10-02T02:41:24.270204",
     "status": "completed"
    },
    "tags": []
   },
   "source": [
    "Since the beginning of 2020, the biking industry had an influx of new customers due to the restriction of public transportation caused by the pandemic. There was a shortage in the supply of bicycles as millions of people saw the benefits of having a bike as their main way of transport. Such benefits includes biking as a form of exercise which helps alleviate the strain caused by having a sedentary lifestyle and it also helps reduce carbon emmision which could contribute to climate change. But as I got deeper to understanding the industry, I noticed that biking as the main form of transportation is not prevalent in my country, the Philippines. What could have caused this discrepency between countries and which countries are more suitable for a bicycle rental business, let us find out!"
   ]
  },
  {
   "cell_type": "markdown",
   "id": "c2d87177",
   "metadata": {
    "papermill": {
     "duration": 0.020702,
     "end_time": "2023-10-02T02:41:24.334421",
     "exception": false,
     "start_time": "2023-10-02T02:41:24.313719",
     "status": "completed"
    },
    "tags": []
   },
   "source": [
    "# Objectives:\n",
    "* Find out why biking isn't as prevalent in some countries.\n",
    "* Provide the countries and cities most suitable for opening a bicycle rental business.\n",
    "* Create a model that would predict whether a certain location would be ideal for a bicycle rental business."
   ]
  },
  {
   "cell_type": "markdown",
   "id": "7a7d30a9",
   "metadata": {
    "papermill": {
     "duration": 0.02081,
     "end_time": "2023-10-02T02:41:24.376691",
     "exception": false,
     "start_time": "2023-10-02T02:41:24.355881",
     "status": "completed"
    },
    "tags": []
   },
   "source": [
    "# Importing Libraries and Loading Data"
   ]
  },
  {
   "cell_type": "code",
   "execution_count": 1,
   "id": "552ba404",
   "metadata": {
    "_cell_guid": "b1076dfc-b9ad-4769-8c92-a6c4dae69d19",
    "_uuid": "8f2839f25d086af736a60e9eeb907d3b93b6e0e5",
    "execution": {
     "iopub.execute_input": "2023-10-02T02:41:24.422272Z",
     "iopub.status.busy": "2023-10-02T02:41:24.420796Z",
     "iopub.status.idle": "2023-10-02T02:41:30.041015Z",
     "shell.execute_reply": "2023-10-02T02:41:30.040013Z"
    },
    "papermill": {
     "duration": 5.647169,
     "end_time": "2023-10-02T02:41:30.044971",
     "exception": false,
     "start_time": "2023-10-02T02:41:24.397802",
     "status": "completed"
    },
    "tags": []
   },
   "outputs": [],
   "source": [
    "import pandas as pd\n",
    "import matplotlib.pyplot as plt\n",
    "import seaborn as sns\n",
    "import numpy as np\n",
    "import datetime\n",
    "from sklearn.metrics import f1_score, roc_auc_score, roc_curve\n",
    "from sklearn.metrics import accuracy_score, precision_score, recall_score\n",
    "from sklearn.metrics import confusion_matrix, plot_confusion_matrix\n",
    "from sklearn.model_selection import GridSearchCV\n",
    "\n",
    "df = pd.read_csv(\"../input/rental-bike-sharing/day.csv\")\n",
    "df_weather = pd.read_csv(\"../input/daily-temperature-of-major-cities/city_temperature.csv\",low_memory = False)\n",
    "df_population = pd.read_csv(\"../input/undata-country-profiles/country_profile_variables.csv\")\n",
    "df_city_population = pd.read_csv(\"../input/world-city/worldcities.csv\")"
   ]
  },
  {
   "cell_type": "markdown",
   "id": "aae56032",
   "metadata": {
    "papermill": {
     "duration": 0.020968,
     "end_time": "2023-10-02T02:41:30.093184",
     "exception": false,
     "start_time": "2023-10-02T02:41:30.072216",
     "status": "completed"
    },
    "tags": []
   },
   "source": [
    "# Preparing Data"
   ]
  },
  {
   "cell_type": "markdown",
   "id": "dee6fce3",
   "metadata": {
    "papermill": {
     "duration": 0.022161,
     "end_time": "2023-10-02T02:41:30.136627",
     "exception": false,
     "start_time": "2023-10-02T02:41:30.114466",
     "status": "completed"
    },
    "tags": []
   },
   "source": [
    "**Bicycle Dataset**"
   ]
  },
  {
   "cell_type": "code",
   "execution_count": 2,
   "id": "79b6104e",
   "metadata": {
    "execution": {
     "iopub.execute_input": "2023-10-02T02:41:30.189780Z",
     "iopub.status.busy": "2023-10-02T02:41:30.189348Z",
     "iopub.status.idle": "2023-10-02T02:41:30.221667Z",
     "shell.execute_reply": "2023-10-02T02:41:30.220276Z"
    },
    "papermill": {
     "duration": 0.059617,
     "end_time": "2023-10-02T02:41:30.225306",
     "exception": false,
     "start_time": "2023-10-02T02:41:30.165689",
     "status": "completed"
    },
    "tags": []
   },
   "outputs": [
    {
     "data": {
      "text/html": [
       "<div>\n",
       "<style scoped>\n",
       "    .dataframe tbody tr th:only-of-type {\n",
       "        vertical-align: middle;\n",
       "    }\n",
       "\n",
       "    .dataframe tbody tr th {\n",
       "        vertical-align: top;\n",
       "    }\n",
       "\n",
       "    .dataframe thead th {\n",
       "        text-align: right;\n",
       "    }\n",
       "</style>\n",
       "<table border=\"1\" class=\"dataframe\">\n",
       "  <thead>\n",
       "    <tr style=\"text-align: right;\">\n",
       "      <th></th>\n",
       "      <th>instant</th>\n",
       "      <th>dteday</th>\n",
       "      <th>season</th>\n",
       "      <th>yr</th>\n",
       "      <th>mnth</th>\n",
       "      <th>holiday</th>\n",
       "      <th>weekday</th>\n",
       "      <th>workingday</th>\n",
       "      <th>weathersit</th>\n",
       "      <th>temp</th>\n",
       "      <th>atemp</th>\n",
       "      <th>hum</th>\n",
       "      <th>windspeed</th>\n",
       "      <th>casual</th>\n",
       "      <th>registered</th>\n",
       "      <th>cnt</th>\n",
       "    </tr>\n",
       "  </thead>\n",
       "  <tbody>\n",
       "    <tr>\n",
       "      <th>0</th>\n",
       "      <td>1</td>\n",
       "      <td>2011-01-01</td>\n",
       "      <td>1</td>\n",
       "      <td>0</td>\n",
       "      <td>1</td>\n",
       "      <td>0</td>\n",
       "      <td>6</td>\n",
       "      <td>0</td>\n",
       "      <td>2</td>\n",
       "      <td>0.344167</td>\n",
       "      <td>0.363625</td>\n",
       "      <td>0.805833</td>\n",
       "      <td>0.160446</td>\n",
       "      <td>331</td>\n",
       "      <td>654</td>\n",
       "      <td>985</td>\n",
       "    </tr>\n",
       "    <tr>\n",
       "      <th>1</th>\n",
       "      <td>2</td>\n",
       "      <td>2011-01-02</td>\n",
       "      <td>1</td>\n",
       "      <td>0</td>\n",
       "      <td>1</td>\n",
       "      <td>0</td>\n",
       "      <td>0</td>\n",
       "      <td>0</td>\n",
       "      <td>2</td>\n",
       "      <td>0.363478</td>\n",
       "      <td>0.353739</td>\n",
       "      <td>0.696087</td>\n",
       "      <td>0.248539</td>\n",
       "      <td>131</td>\n",
       "      <td>670</td>\n",
       "      <td>801</td>\n",
       "    </tr>\n",
       "    <tr>\n",
       "      <th>2</th>\n",
       "      <td>3</td>\n",
       "      <td>2011-01-03</td>\n",
       "      <td>1</td>\n",
       "      <td>0</td>\n",
       "      <td>1</td>\n",
       "      <td>0</td>\n",
       "      <td>1</td>\n",
       "      <td>1</td>\n",
       "      <td>1</td>\n",
       "      <td>0.196364</td>\n",
       "      <td>0.189405</td>\n",
       "      <td>0.437273</td>\n",
       "      <td>0.248309</td>\n",
       "      <td>120</td>\n",
       "      <td>1229</td>\n",
       "      <td>1349</td>\n",
       "    </tr>\n",
       "    <tr>\n",
       "      <th>3</th>\n",
       "      <td>4</td>\n",
       "      <td>2011-01-04</td>\n",
       "      <td>1</td>\n",
       "      <td>0</td>\n",
       "      <td>1</td>\n",
       "      <td>0</td>\n",
       "      <td>2</td>\n",
       "      <td>1</td>\n",
       "      <td>1</td>\n",
       "      <td>0.200000</td>\n",
       "      <td>0.212122</td>\n",
       "      <td>0.590435</td>\n",
       "      <td>0.160296</td>\n",
       "      <td>108</td>\n",
       "      <td>1454</td>\n",
       "      <td>1562</td>\n",
       "    </tr>\n",
       "    <tr>\n",
       "      <th>4</th>\n",
       "      <td>5</td>\n",
       "      <td>2011-01-05</td>\n",
       "      <td>1</td>\n",
       "      <td>0</td>\n",
       "      <td>1</td>\n",
       "      <td>0</td>\n",
       "      <td>3</td>\n",
       "      <td>1</td>\n",
       "      <td>1</td>\n",
       "      <td>0.226957</td>\n",
       "      <td>0.229270</td>\n",
       "      <td>0.436957</td>\n",
       "      <td>0.186900</td>\n",
       "      <td>82</td>\n",
       "      <td>1518</td>\n",
       "      <td>1600</td>\n",
       "    </tr>\n",
       "  </tbody>\n",
       "</table>\n",
       "</div>"
      ],
      "text/plain": [
       "   instant      dteday  season  yr  mnth  holiday  weekday  workingday  \\\n",
       "0        1  2011-01-01       1   0     1        0        6           0   \n",
       "1        2  2011-01-02       1   0     1        0        0           0   \n",
       "2        3  2011-01-03       1   0     1        0        1           1   \n",
       "3        4  2011-01-04       1   0     1        0        2           1   \n",
       "4        5  2011-01-05       1   0     1        0        3           1   \n",
       "\n",
       "   weathersit      temp     atemp       hum  windspeed  casual  registered  \\\n",
       "0           2  0.344167  0.363625  0.805833   0.160446     331         654   \n",
       "1           2  0.363478  0.353739  0.696087   0.248539     131         670   \n",
       "2           1  0.196364  0.189405  0.437273   0.248309     120        1229   \n",
       "3           1  0.200000  0.212122  0.590435   0.160296     108        1454   \n",
       "4           1  0.226957  0.229270  0.436957   0.186900      82        1518   \n",
       "\n",
       "    cnt  \n",
       "0   985  \n",
       "1   801  \n",
       "2  1349  \n",
       "3  1562  \n",
       "4  1600  "
      ]
     },
     "execution_count": 2,
     "metadata": {},
     "output_type": "execute_result"
    }
   ],
   "source": [
    "df.head()"
   ]
  },
  {
   "cell_type": "code",
   "execution_count": 3,
   "id": "590ef09c",
   "metadata": {
    "execution": {
     "iopub.execute_input": "2023-10-02T02:41:30.278672Z",
     "iopub.status.busy": "2023-10-02T02:41:30.277786Z",
     "iopub.status.idle": "2023-10-02T02:41:30.285513Z",
     "shell.execute_reply": "2023-10-02T02:41:30.284370Z"
    },
    "papermill": {
     "duration": 0.034422,
     "end_time": "2023-10-02T02:41:30.287879",
     "exception": false,
     "start_time": "2023-10-02T02:41:30.253457",
     "status": "completed"
    },
    "tags": []
   },
   "outputs": [
    {
     "data": {
      "text/plain": [
       "(731, 16)"
      ]
     },
     "execution_count": 3,
     "metadata": {},
     "output_type": "execute_result"
    }
   ],
   "source": [
    "df.shape"
   ]
  },
  {
   "cell_type": "code",
   "execution_count": 4,
   "id": "7bd6134c",
   "metadata": {
    "execution": {
     "iopub.execute_input": "2023-10-02T02:41:30.336947Z",
     "iopub.status.busy": "2023-10-02T02:41:30.335602Z",
     "iopub.status.idle": "2023-10-02T02:41:30.375044Z",
     "shell.execute_reply": "2023-10-02T02:41:30.372981Z"
    },
    "papermill": {
     "duration": 0.068245,
     "end_time": "2023-10-02T02:41:30.379021",
     "exception": false,
     "start_time": "2023-10-02T02:41:30.310776",
     "status": "completed"
    },
    "tags": []
   },
   "outputs": [
    {
     "name": "stdout",
     "output_type": "stream",
     "text": [
      "<class 'pandas.core.frame.DataFrame'>\n",
      "RangeIndex: 731 entries, 0 to 730\n",
      "Data columns (total 16 columns):\n",
      " #   Column      Non-Null Count  Dtype  \n",
      "---  ------      --------------  -----  \n",
      " 0   instant     731 non-null    int64  \n",
      " 1   dteday      731 non-null    object \n",
      " 2   season      731 non-null    int64  \n",
      " 3   yr          731 non-null    int64  \n",
      " 4   mnth        731 non-null    int64  \n",
      " 5   holiday     731 non-null    int64  \n",
      " 6   weekday     731 non-null    int64  \n",
      " 7   workingday  731 non-null    int64  \n",
      " 8   weathersit  731 non-null    int64  \n",
      " 9   temp        731 non-null    float64\n",
      " 10  atemp       731 non-null    float64\n",
      " 11  hum         731 non-null    float64\n",
      " 12  windspeed   731 non-null    float64\n",
      " 13  casual      731 non-null    int64  \n",
      " 14  registered  731 non-null    int64  \n",
      " 15  cnt         731 non-null    int64  \n",
      "dtypes: float64(4), int64(11), object(1)\n",
      "memory usage: 91.5+ KB\n"
     ]
    }
   ],
   "source": [
    "df.info()"
   ]
  },
  {
   "cell_type": "code",
   "execution_count": 5,
   "id": "f1e8ae05",
   "metadata": {
    "execution": {
     "iopub.execute_input": "2023-10-02T02:41:30.472874Z",
     "iopub.status.busy": "2023-10-02T02:41:30.472314Z",
     "iopub.status.idle": "2023-10-02T02:41:30.544489Z",
     "shell.execute_reply": "2023-10-02T02:41:30.542934Z"
    },
    "papermill": {
     "duration": 0.121752,
     "end_time": "2023-10-02T02:41:30.547139",
     "exception": false,
     "start_time": "2023-10-02T02:41:30.425387",
     "status": "completed"
    },
    "tags": []
   },
   "outputs": [
    {
     "data": {
      "text/html": [
       "<div>\n",
       "<style scoped>\n",
       "    .dataframe tbody tr th:only-of-type {\n",
       "        vertical-align: middle;\n",
       "    }\n",
       "\n",
       "    .dataframe tbody tr th {\n",
       "        vertical-align: top;\n",
       "    }\n",
       "\n",
       "    .dataframe thead th {\n",
       "        text-align: right;\n",
       "    }\n",
       "</style>\n",
       "<table border=\"1\" class=\"dataframe\">\n",
       "  <thead>\n",
       "    <tr style=\"text-align: right;\">\n",
       "      <th></th>\n",
       "      <th>instant</th>\n",
       "      <th>season</th>\n",
       "      <th>yr</th>\n",
       "      <th>mnth</th>\n",
       "      <th>holiday</th>\n",
       "      <th>weekday</th>\n",
       "      <th>workingday</th>\n",
       "      <th>weathersit</th>\n",
       "      <th>temp</th>\n",
       "      <th>atemp</th>\n",
       "      <th>hum</th>\n",
       "      <th>windspeed</th>\n",
       "      <th>casual</th>\n",
       "      <th>registered</th>\n",
       "      <th>cnt</th>\n",
       "    </tr>\n",
       "  </thead>\n",
       "  <tbody>\n",
       "    <tr>\n",
       "      <th>count</th>\n",
       "      <td>731.000000</td>\n",
       "      <td>731.000000</td>\n",
       "      <td>731.000000</td>\n",
       "      <td>731.000000</td>\n",
       "      <td>731.000000</td>\n",
       "      <td>731.000000</td>\n",
       "      <td>731.000000</td>\n",
       "      <td>731.000000</td>\n",
       "      <td>731.000000</td>\n",
       "      <td>731.000000</td>\n",
       "      <td>731.000000</td>\n",
       "      <td>731.000000</td>\n",
       "      <td>731.000000</td>\n",
       "      <td>731.000000</td>\n",
       "      <td>731.000000</td>\n",
       "    </tr>\n",
       "    <tr>\n",
       "      <th>mean</th>\n",
       "      <td>366.000000</td>\n",
       "      <td>2.496580</td>\n",
       "      <td>0.500684</td>\n",
       "      <td>6.519836</td>\n",
       "      <td>0.028728</td>\n",
       "      <td>2.997264</td>\n",
       "      <td>0.683995</td>\n",
       "      <td>1.395349</td>\n",
       "      <td>0.495385</td>\n",
       "      <td>0.474354</td>\n",
       "      <td>0.627894</td>\n",
       "      <td>0.190486</td>\n",
       "      <td>848.176471</td>\n",
       "      <td>3656.172367</td>\n",
       "      <td>4504.348837</td>\n",
       "    </tr>\n",
       "    <tr>\n",
       "      <th>std</th>\n",
       "      <td>211.165812</td>\n",
       "      <td>1.110807</td>\n",
       "      <td>0.500342</td>\n",
       "      <td>3.451913</td>\n",
       "      <td>0.167155</td>\n",
       "      <td>2.004787</td>\n",
       "      <td>0.465233</td>\n",
       "      <td>0.544894</td>\n",
       "      <td>0.183051</td>\n",
       "      <td>0.162961</td>\n",
       "      <td>0.142429</td>\n",
       "      <td>0.077498</td>\n",
       "      <td>686.622488</td>\n",
       "      <td>1560.256377</td>\n",
       "      <td>1937.211452</td>\n",
       "    </tr>\n",
       "    <tr>\n",
       "      <th>min</th>\n",
       "      <td>1.000000</td>\n",
       "      <td>1.000000</td>\n",
       "      <td>0.000000</td>\n",
       "      <td>1.000000</td>\n",
       "      <td>0.000000</td>\n",
       "      <td>0.000000</td>\n",
       "      <td>0.000000</td>\n",
       "      <td>1.000000</td>\n",
       "      <td>0.059130</td>\n",
       "      <td>0.079070</td>\n",
       "      <td>0.000000</td>\n",
       "      <td>0.022392</td>\n",
       "      <td>2.000000</td>\n",
       "      <td>20.000000</td>\n",
       "      <td>22.000000</td>\n",
       "    </tr>\n",
       "    <tr>\n",
       "      <th>25%</th>\n",
       "      <td>183.500000</td>\n",
       "      <td>2.000000</td>\n",
       "      <td>0.000000</td>\n",
       "      <td>4.000000</td>\n",
       "      <td>0.000000</td>\n",
       "      <td>1.000000</td>\n",
       "      <td>0.000000</td>\n",
       "      <td>1.000000</td>\n",
       "      <td>0.337083</td>\n",
       "      <td>0.337842</td>\n",
       "      <td>0.520000</td>\n",
       "      <td>0.134950</td>\n",
       "      <td>315.500000</td>\n",
       "      <td>2497.000000</td>\n",
       "      <td>3152.000000</td>\n",
       "    </tr>\n",
       "    <tr>\n",
       "      <th>50%</th>\n",
       "      <td>366.000000</td>\n",
       "      <td>3.000000</td>\n",
       "      <td>1.000000</td>\n",
       "      <td>7.000000</td>\n",
       "      <td>0.000000</td>\n",
       "      <td>3.000000</td>\n",
       "      <td>1.000000</td>\n",
       "      <td>1.000000</td>\n",
       "      <td>0.498333</td>\n",
       "      <td>0.486733</td>\n",
       "      <td>0.626667</td>\n",
       "      <td>0.180975</td>\n",
       "      <td>713.000000</td>\n",
       "      <td>3662.000000</td>\n",
       "      <td>4548.000000</td>\n",
       "    </tr>\n",
       "    <tr>\n",
       "      <th>75%</th>\n",
       "      <td>548.500000</td>\n",
       "      <td>3.000000</td>\n",
       "      <td>1.000000</td>\n",
       "      <td>10.000000</td>\n",
       "      <td>0.000000</td>\n",
       "      <td>5.000000</td>\n",
       "      <td>1.000000</td>\n",
       "      <td>2.000000</td>\n",
       "      <td>0.655417</td>\n",
       "      <td>0.608602</td>\n",
       "      <td>0.730209</td>\n",
       "      <td>0.233214</td>\n",
       "      <td>1096.000000</td>\n",
       "      <td>4776.500000</td>\n",
       "      <td>5956.000000</td>\n",
       "    </tr>\n",
       "    <tr>\n",
       "      <th>max</th>\n",
       "      <td>731.000000</td>\n",
       "      <td>4.000000</td>\n",
       "      <td>1.000000</td>\n",
       "      <td>12.000000</td>\n",
       "      <td>1.000000</td>\n",
       "      <td>6.000000</td>\n",
       "      <td>1.000000</td>\n",
       "      <td>3.000000</td>\n",
       "      <td>0.861667</td>\n",
       "      <td>0.840896</td>\n",
       "      <td>0.972500</td>\n",
       "      <td>0.507463</td>\n",
       "      <td>3410.000000</td>\n",
       "      <td>6946.000000</td>\n",
       "      <td>8714.000000</td>\n",
       "    </tr>\n",
       "  </tbody>\n",
       "</table>\n",
       "</div>"
      ],
      "text/plain": [
       "          instant      season          yr        mnth     holiday     weekday  \\\n",
       "count  731.000000  731.000000  731.000000  731.000000  731.000000  731.000000   \n",
       "mean   366.000000    2.496580    0.500684    6.519836    0.028728    2.997264   \n",
       "std    211.165812    1.110807    0.500342    3.451913    0.167155    2.004787   \n",
       "min      1.000000    1.000000    0.000000    1.000000    0.000000    0.000000   \n",
       "25%    183.500000    2.000000    0.000000    4.000000    0.000000    1.000000   \n",
       "50%    366.000000    3.000000    1.000000    7.000000    0.000000    3.000000   \n",
       "75%    548.500000    3.000000    1.000000   10.000000    0.000000    5.000000   \n",
       "max    731.000000    4.000000    1.000000   12.000000    1.000000    6.000000   \n",
       "\n",
       "       workingday  weathersit        temp       atemp         hum   windspeed  \\\n",
       "count  731.000000  731.000000  731.000000  731.000000  731.000000  731.000000   \n",
       "mean     0.683995    1.395349    0.495385    0.474354    0.627894    0.190486   \n",
       "std      0.465233    0.544894    0.183051    0.162961    0.142429    0.077498   \n",
       "min      0.000000    1.000000    0.059130    0.079070    0.000000    0.022392   \n",
       "25%      0.000000    1.000000    0.337083    0.337842    0.520000    0.134950   \n",
       "50%      1.000000    1.000000    0.498333    0.486733    0.626667    0.180975   \n",
       "75%      1.000000    2.000000    0.655417    0.608602    0.730209    0.233214   \n",
       "max      1.000000    3.000000    0.861667    0.840896    0.972500    0.507463   \n",
       "\n",
       "            casual   registered          cnt  \n",
       "count   731.000000   731.000000   731.000000  \n",
       "mean    848.176471  3656.172367  4504.348837  \n",
       "std     686.622488  1560.256377  1937.211452  \n",
       "min       2.000000    20.000000    22.000000  \n",
       "25%     315.500000  2497.000000  3152.000000  \n",
       "50%     713.000000  3662.000000  4548.000000  \n",
       "75%    1096.000000  4776.500000  5956.000000  \n",
       "max    3410.000000  6946.000000  8714.000000  "
      ]
     },
     "execution_count": 5,
     "metadata": {},
     "output_type": "execute_result"
    }
   ],
   "source": [
    "df.describe()"
   ]
  },
  {
   "cell_type": "markdown",
   "id": "510c75af",
   "metadata": {
    "papermill": {
     "duration": 0.022907,
     "end_time": "2023-10-02T02:41:30.594011",
     "exception": false,
     "start_time": "2023-10-02T02:41:30.571104",
     "status": "completed"
    },
    "tags": []
   },
   "source": [
    "**MetaData**\n",
    "\n",
    "* instant: record index\n",
    "* dteday : date\n",
    "* season : season (1:winter, 2:spring, 3:summer, 4:fall)\n",
    "* yr : year (0: 2011, 1:2012)\n",
    "* mnth : month ( 1 to 12)\n",
    "* hr : hour (0 to 23)\n",
    "* holiday : weather day is holiday or not\n",
    "* weekday : day of the week\n",
    "* workingday : if day is neither weekend nor holiday is 1, otherwise is 0.\n",
    "* weathersit :\n",
    "* 1: Clear, Few clouds, Partly cloudy, Partly cloudy\n",
    "* 2: Mist + Cloudy, Mist + Broken clouds, Mist + Few clouds, Mist\n",
    "* 3: Light Snow, Light Rain + Thunderstorm + Scattered clouds, Light Rain + Scattered clouds\n",
    "* 4: Heavy Rain + Ice Pallets + Thunderstorm + Mist, Snow + Fog\n",
    "* temp : Normalized temperature in Celsius. The values are derived via (t-t_min)/(t_max-t_min), t_min=-8, t_max=+39 (only in hourly scale)\n",
    "* atemp: Normalized feeling temperature in Celsius. The values are derived via (t-t_min)/(t_max-t_min), t_min=-16, t_max=+50 (only in hourly scale)\n",
    "* hum: Normalized humidity. The values are divided to 100 (max)\n",
    "* windspeed: Normalized wind speed. The values are divided to 67 (max)\n",
    "* casual: count of casual users\n",
    "* registered: count of registered users\n",
    "* cnt: count of total rental bikes including both casual and registered"
   ]
  },
  {
   "cell_type": "markdown",
   "id": "432646ef",
   "metadata": {
    "papermill": {
     "duration": 0.023195,
     "end_time": "2023-10-02T02:41:30.642638",
     "exception": false,
     "start_time": "2023-10-02T02:41:30.619443",
     "status": "completed"
    },
    "tags": []
   },
   "source": [
    "# Data Preparation - Bicycle Data"
   ]
  },
  {
   "cell_type": "markdown",
   "id": "e74f0605",
   "metadata": {
    "papermill": {
     "duration": 0.021864,
     "end_time": "2023-10-02T02:41:30.687719",
     "exception": false,
     "start_time": "2023-10-02T02:41:30.665855",
     "status": "completed"
    },
    "tags": []
   },
   "source": [
    "Based on the metadata of the current dataset, the column 'instant' provides the index of each instances. We could remove this column since pandas already provided as with a default row index."
   ]
  },
  {
   "cell_type": "code",
   "execution_count": 6,
   "id": "031e1934",
   "metadata": {
    "execution": {
     "iopub.execute_input": "2023-10-02T02:41:30.736866Z",
     "iopub.status.busy": "2023-10-02T02:41:30.736261Z",
     "iopub.status.idle": "2023-10-02T02:41:30.741487Z",
     "shell.execute_reply": "2023-10-02T02:41:30.740591Z"
    },
    "papermill": {
     "duration": 0.031377,
     "end_time": "2023-10-02T02:41:30.743723",
     "exception": false,
     "start_time": "2023-10-02T02:41:30.712346",
     "status": "completed"
    },
    "tags": []
   },
   "outputs": [],
   "source": [
    "# remove unwanted columns\n",
    "df.drop('instant',axis = 1,inplace = True)"
   ]
  },
  {
   "cell_type": "markdown",
   "id": "441393f0",
   "metadata": {
    "papermill": {
     "duration": 0.021556,
     "end_time": "2023-10-02T02:41:30.789029",
     "exception": false,
     "start_time": "2023-10-02T02:41:30.767473",
     "status": "completed"
    },
    "tags": []
   },
   "source": [
    "**Check for Null Values**"
   ]
  },
  {
   "cell_type": "code",
   "execution_count": 7,
   "id": "b12ff19f",
   "metadata": {
    "execution": {
     "iopub.execute_input": "2023-10-02T02:41:30.836800Z",
     "iopub.status.busy": "2023-10-02T02:41:30.836062Z",
     "iopub.status.idle": "2023-10-02T02:41:30.847090Z",
     "shell.execute_reply": "2023-10-02T02:41:30.845939Z"
    },
    "papermill": {
     "duration": 0.038239,
     "end_time": "2023-10-02T02:41:30.849735",
     "exception": false,
     "start_time": "2023-10-02T02:41:30.811496",
     "status": "completed"
    },
    "tags": []
   },
   "outputs": [
    {
     "data": {
      "text/plain": [
       "dteday        0\n",
       "season        0\n",
       "yr            0\n",
       "mnth          0\n",
       "holiday       0\n",
       "weekday       0\n",
       "workingday    0\n",
       "weathersit    0\n",
       "temp          0\n",
       "atemp         0\n",
       "hum           0\n",
       "windspeed     0\n",
       "casual        0\n",
       "registered    0\n",
       "cnt           0\n",
       "dtype: int64"
      ]
     },
     "execution_count": 7,
     "metadata": {},
     "output_type": "execute_result"
    }
   ],
   "source": [
    "df.isnull().sum()"
   ]
  },
  {
   "cell_type": "markdown",
   "id": "6a163aef",
   "metadata": {
    "papermill": {
     "duration": 0.022582,
     "end_time": "2023-10-02T02:41:30.895936",
     "exception": false,
     "start_time": "2023-10-02T02:41:30.873354",
     "status": "completed"
    },
    "tags": []
   },
   "source": [
    "There seems to be no Null Values in the bicycle dataset."
   ]
  },
  {
   "cell_type": "markdown",
   "id": "f1b2008d",
   "metadata": {
    "papermill": {
     "duration": 0.023245,
     "end_time": "2023-10-02T02:41:30.941989",
     "exception": false,
     "start_time": "2023-10-02T02:41:30.918744",
     "status": "completed"
    },
    "tags": []
   },
   "source": [
    "# Feature Engineering - Bicycle Dataset"
   ]
  },
  {
   "cell_type": "code",
   "execution_count": 8,
   "id": "4290a9ea",
   "metadata": {
    "execution": {
     "iopub.execute_input": "2023-10-02T02:41:30.989130Z",
     "iopub.status.busy": "2023-10-02T02:41:30.988341Z",
     "iopub.status.idle": "2023-10-02T02:41:30.999439Z",
     "shell.execute_reply": "2023-10-02T02:41:30.997909Z"
    },
    "papermill": {
     "duration": 0.039281,
     "end_time": "2023-10-02T02:41:31.003610",
     "exception": false,
     "start_time": "2023-10-02T02:41:30.964329",
     "status": "completed"
    },
    "tags": []
   },
   "outputs": [],
   "source": [
    "#set dates to datetime\n",
    "df['dteday'] = pd.to_datetime(df['dteday'])\n",
    "\n",
    "# put quarters based on dteday\n",
    "df['quarter'] = df['dteday'].dt.quarter"
   ]
  },
  {
   "cell_type": "markdown",
   "id": "485d965f",
   "metadata": {
    "papermill": {
     "duration": 0.022126,
     "end_time": "2023-10-02T02:41:31.048318",
     "exception": false,
     "start_time": "2023-10-02T02:41:31.026192",
     "status": "completed"
    },
    "tags": []
   },
   "source": [
    "The temperature, humidity, and windspeed were all adjusted/scaled based on a specific parameter. We have to convert it back to its original state for data exploration purposes."
   ]
  },
  {
   "cell_type": "code",
   "execution_count": 9,
   "id": "75225dfd",
   "metadata": {
    "execution": {
     "iopub.execute_input": "2023-10-02T02:41:31.096518Z",
     "iopub.status.busy": "2023-10-02T02:41:31.095918Z",
     "iopub.status.idle": "2023-10-02T02:41:31.107322Z",
     "shell.execute_reply": "2023-10-02T02:41:31.106241Z"
    },
    "papermill": {
     "duration": 0.039121,
     "end_time": "2023-10-02T02:41:31.109969",
     "exception": false,
     "start_time": "2023-10-02T02:41:31.070848",
     "status": "completed"
    },
    "tags": []
   },
   "outputs": [],
   "source": [
    "# Reverting back to original state\n",
    "df['temp'] = df['temp'].agg(lambda x: x*41)\n",
    "df['atemp'] = df['atemp'].agg(lambda x: x*50)\n",
    "df['hum'] = df['hum'].agg(lambda x: x*100)\n",
    "df['windspeed'] = df['windspeed'].agg(lambda x: x*67)"
   ]
  },
  {
   "cell_type": "markdown",
   "id": "bc604a6b",
   "metadata": {
    "papermill": {
     "duration": 0.02273,
     "end_time": "2023-10-02T02:41:31.154960",
     "exception": false,
     "start_time": "2023-10-02T02:41:31.132230",
     "status": "completed"
    },
    "tags": []
   },
   "source": [
    "**Check for Outliers**"
   ]
  },
  {
   "cell_type": "code",
   "execution_count": 10,
   "id": "de107c1b",
   "metadata": {
    "execution": {
     "iopub.execute_input": "2023-10-02T02:41:31.202905Z",
     "iopub.status.busy": "2023-10-02T02:41:31.202379Z",
     "iopub.status.idle": "2023-10-02T02:41:32.675452Z",
     "shell.execute_reply": "2023-10-02T02:41:32.673787Z"
    },
    "papermill": {
     "duration": 1.499876,
     "end_time": "2023-10-02T02:41:32.678384",
     "exception": false,
     "start_time": "2023-10-02T02:41:31.178508",
     "status": "completed"
    },
    "tags": []
   },
   "outputs": [
    {
     "data": {
      "image/png": "[encoded data removed]",
      "text/plain": [
       "<Figure size 1440x1080 with 9 Axes>"
      ]
     },
     "metadata": {
      "needs_background": "light"
     },
     "output_type": "display_data"
    }
   ],
   "source": [
    "# Checking for outliers\n",
    "test = ['temp', 'atemp', 'hum', 'windspeed','casual', 'registered', 'cnt']\n",
    "fig,ax1 = plt.subplots(3,3,figsize = (20,15))\n",
    "for i, number in enumerate(test):\n",
    "    sns.boxplot(x = 'season',y = number, ax=ax1[i//3, i%3],data=df)"
   ]
  },
  {
   "cell_type": "markdown",
   "id": "7c6eafbc",
   "metadata": {
    "papermill": {
     "duration": 0.022313,
     "end_time": "2023-10-02T02:41:32.724260",
     "exception": false,
     "start_time": "2023-10-02T02:41:32.701947",
     "status": "completed"
    },
    "tags": []
   },
   "source": [
    "The data points appear reasonable. In a natural setting, it's quite common to encounter outliers because nature is inherently variable, and there isn't always a strict baseline for each season. Given this context, there's no intention to remove any outliers from the dataset. In fact, retaining these outliers might provide valuable insights into the overall characteristics of the data."
   ]
  },
  {
   "cell_type": "markdown",
   "id": "394a5c58",
   "metadata": {
    "papermill": {
     "duration": 0.024058,
     "end_time": "2023-10-02T02:41:32.771036",
     "exception": false,
     "start_time": "2023-10-02T02:41:32.746978",
     "status": "completed"
    },
    "tags": []
   },
   "source": [
    "# Weather Dataset"
   ]
  },
  {
   "cell_type": "code",
   "execution_count": 11,
   "id": "526f036e",
   "metadata": {
    "execution": {
     "iopub.execute_input": "2023-10-02T02:41:32.819915Z",
     "iopub.status.busy": "2023-10-02T02:41:32.819423Z",
     "iopub.status.idle": "2023-10-02T02:41:32.835650Z",
     "shell.execute_reply": "2023-10-02T02:41:32.834101Z"
    },
    "papermill": {
     "duration": 0.044113,
     "end_time": "2023-10-02T02:41:32.838358",
     "exception": false,
     "start_time": "2023-10-02T02:41:32.794245",
     "status": "completed"
    },
    "tags": []
   },
   "outputs": [
    {
     "data": {
      "text/html": [
       "<div>\n",
       "<style scoped>\n",
       "    .dataframe tbody tr th:only-of-type {\n",
       "        vertical-align: middle;\n",
       "    }\n",
       "\n",
       "    .dataframe tbody tr th {\n",
       "        vertical-align: top;\n",
       "    }\n",
       "\n",
       "    .dataframe thead th {\n",
       "        text-align: right;\n",
       "    }\n",
       "</style>\n",
       "<table border=\"1\" class=\"dataframe\">\n",
       "  <thead>\n",
       "    <tr style=\"text-align: right;\">\n",
       "      <th></th>\n",
       "      <th>Region</th>\n",
       "      <th>Country</th>\n",
       "      <th>State</th>\n",
       "      <th>City</th>\n",
       "      <th>Month</th>\n",
       "      <th>Day</th>\n",
       "      <th>Year</th>\n",
       "      <th>AvgTemperature</th>\n",
       "    </tr>\n",
       "  </thead>\n",
       "  <tbody>\n",
       "    <tr>\n",
       "      <th>0</th>\n",
       "      <td>Africa</td>\n",
       "      <td>Algeria</td>\n",
       "      <td>NaN</td>\n",
       "      <td>Algiers</td>\n",
       "      <td>1</td>\n",
       "      <td>1</td>\n",
       "      <td>1995</td>\n",
       "      <td>64.2</td>\n",
       "    </tr>\n",
       "    <tr>\n",
       "      <th>1</th>\n",
       "      <td>Africa</td>\n",
       "      <td>Algeria</td>\n",
       "      <td>NaN</td>\n",
       "      <td>Algiers</td>\n",
       "      <td>1</td>\n",
       "      <td>2</td>\n",
       "      <td>1995</td>\n",
       "      <td>49.4</td>\n",
       "    </tr>\n",
       "    <tr>\n",
       "      <th>2</th>\n",
       "      <td>Africa</td>\n",
       "      <td>Algeria</td>\n",
       "      <td>NaN</td>\n",
       "      <td>Algiers</td>\n",
       "      <td>1</td>\n",
       "      <td>3</td>\n",
       "      <td>1995</td>\n",
       "      <td>48.8</td>\n",
       "    </tr>\n",
       "    <tr>\n",
       "      <th>3</th>\n",
       "      <td>Africa</td>\n",
       "      <td>Algeria</td>\n",
       "      <td>NaN</td>\n",
       "      <td>Algiers</td>\n",
       "      <td>1</td>\n",
       "      <td>4</td>\n",
       "      <td>1995</td>\n",
       "      <td>46.4</td>\n",
       "    </tr>\n",
       "    <tr>\n",
       "      <th>4</th>\n",
       "      <td>Africa</td>\n",
       "      <td>Algeria</td>\n",
       "      <td>NaN</td>\n",
       "      <td>Algiers</td>\n",
       "      <td>1</td>\n",
       "      <td>5</td>\n",
       "      <td>1995</td>\n",
       "      <td>47.9</td>\n",
       "    </tr>\n",
       "  </tbody>\n",
       "</table>\n",
       "</div>"
      ],
      "text/plain": [
       "   Region  Country State     City  Month  Day  Year  AvgTemperature\n",
       "0  Africa  Algeria   NaN  Algiers      1    1  1995            64.2\n",
       "1  Africa  Algeria   NaN  Algiers      1    2  1995            49.4\n",
       "2  Africa  Algeria   NaN  Algiers      1    3  1995            48.8\n",
       "3  Africa  Algeria   NaN  Algiers      1    4  1995            46.4\n",
       "4  Africa  Algeria   NaN  Algiers      1    5  1995            47.9"
      ]
     },
     "execution_count": 11,
     "metadata": {},
     "output_type": "execute_result"
    }
   ],
   "source": [
    "df_weather.head()"
   ]
  },
  {
   "cell_type": "code",
   "execution_count": 12,
   "id": "0eff2dd1",
   "metadata": {
    "execution": {
     "iopub.execute_input": "2023-10-02T02:41:32.886500Z",
     "iopub.status.busy": "2023-10-02T02:41:32.886061Z",
     "iopub.status.idle": "2023-10-02T02:41:32.898728Z",
     "shell.execute_reply": "2023-10-02T02:41:32.897331Z"
    },
    "papermill": {
     "duration": 0.039294,
     "end_time": "2023-10-02T02:41:32.900807",
     "exception": false,
     "start_time": "2023-10-02T02:41:32.861513",
     "status": "completed"
    },
    "tags": []
   },
   "outputs": [
    {
     "name": "stdout",
     "output_type": "stream",
     "text": [
      "<class 'pandas.core.frame.DataFrame'>\n",
      "RangeIndex: 2906327 entries, 0 to 2906326\n",
      "Data columns (total 8 columns):\n",
      " #   Column          Dtype  \n",
      "---  ------          -----  \n",
      " 0   Region          object \n",
      " 1   Country         object \n",
      " 2   State           object \n",
      " 3   City            object \n",
      " 4   Month           int64  \n",
      " 5   Day             int64  \n",
      " 6   Year            int64  \n",
      " 7   AvgTemperature  float64\n",
      "dtypes: float64(1), int64(3), object(4)\n",
      "memory usage: 177.4+ MB\n"
     ]
    }
   ],
   "source": [
    "df_weather.info()"
   ]
  },
  {
   "cell_type": "markdown",
   "id": "7e8c503f",
   "metadata": {
    "papermill": {
     "duration": 0.022603,
     "end_time": "2023-10-02T02:41:32.946179",
     "exception": false,
     "start_time": "2023-10-02T02:41:32.923576",
     "status": "completed"
    },
    "tags": []
   },
   "source": [
    "**Reverting Column to Original State**"
   ]
  },
  {
   "cell_type": "markdown",
   "id": "df00b694",
   "metadata": {
    "papermill": {
     "duration": 0.022243,
     "end_time": "2023-10-02T02:41:32.991153",
     "exception": false,
     "start_time": "2023-10-02T02:41:32.968910",
     "status": "completed"
    },
    "tags": []
   },
   "source": [
    "Just like the bicycle dataset, the average temperature in the weather dataset was scaled. So in exploration purposes, we would revert it back to its original state."
   ]
  },
  {
   "cell_type": "code",
   "execution_count": 13,
   "id": "5f4c62b4",
   "metadata": {
    "execution": {
     "iopub.execute_input": "2023-10-02T02:41:33.044843Z",
     "iopub.status.busy": "2023-10-02T02:41:33.044401Z",
     "iopub.status.idle": "2023-10-02T02:41:33.068399Z",
     "shell.execute_reply": "2023-10-02T02:41:33.067233Z"
    },
    "papermill": {
     "duration": 0.052417,
     "end_time": "2023-10-02T02:41:33.071377",
     "exception": false,
     "start_time": "2023-10-02T02:41:33.018960",
     "status": "completed"
    },
    "tags": []
   },
   "outputs": [],
   "source": [
    "# convert fahrenheit to celcius\n",
    "df_weather['AvgTemperature'] = (df_weather['AvgTemperature'] - 32) * 0.5556"
   ]
  },
  {
   "cell_type": "markdown",
   "id": "fc70f605",
   "metadata": {
    "papermill": {
     "duration": 0.023342,
     "end_time": "2023-10-02T02:41:33.118421",
     "exception": false,
     "start_time": "2023-10-02T02:41:33.095079",
     "status": "completed"
    },
    "tags": []
   },
   "source": [
    "**Adding Columns**"
   ]
  },
  {
   "cell_type": "markdown",
   "id": "c72c310b",
   "metadata": {
    "papermill": {
     "duration": 0.023438,
     "end_time": "2023-10-02T02:41:33.165735",
     "exception": false,
     "start_time": "2023-10-02T02:41:33.142297",
     "status": "completed"
    },
    "tags": []
   },
   "source": [
    "The Bicycle dataset includes a 'season' feature that's why it would be helpful if we could add a similar feature in the weather dataset to find an association between the two datasets."
   ]
  },
  {
   "cell_type": "code",
   "execution_count": 14,
   "id": "cfc4f578",
   "metadata": {
    "execution": {
     "iopub.execute_input": "2023-10-02T02:41:33.215802Z",
     "iopub.status.busy": "2023-10-02T02:41:33.215388Z",
     "iopub.status.idle": "2023-10-02T02:41:33.607658Z",
     "shell.execute_reply": "2023-10-02T02:41:33.606024Z"
    },
    "papermill": {
     "duration": 0.421405,
     "end_time": "2023-10-02T02:41:33.610963",
     "exception": false,
     "start_time": "2023-10-02T02:41:33.189558",
     "status": "completed"
    },
    "tags": []
   },
   "outputs": [],
   "source": [
    "#combine month day year to create datetime\n",
    "df_weather['Date'] = pd.to_datetime(df_weather[['Year','Month']].assign(DAY=1))\n",
    "\n",
    "#put quarter based from newly created 'Date' Column\n",
    "df_weather['Quarter'] = df_weather['Date'].dt.quarter"
   ]
  },
  {
   "cell_type": "markdown",
   "id": "f1943fd0",
   "metadata": {
    "papermill": {
     "duration": 0.023598,
     "end_time": "2023-10-02T02:41:33.658681",
     "exception": false,
     "start_time": "2023-10-02T02:41:33.635083",
     "status": "completed"
    },
    "tags": []
   },
   "source": [
    "**Checking Outliers**"
   ]
  },
  {
   "cell_type": "code",
   "execution_count": 15,
   "id": "8d551132",
   "metadata": {
    "execution": {
     "iopub.execute_input": "2023-10-02T02:41:33.708460Z",
     "iopub.status.busy": "2023-10-02T02:41:33.707923Z",
     "iopub.status.idle": "2023-10-02T02:41:35.721268Z",
     "shell.execute_reply": "2023-10-02T02:41:35.719657Z"
    },
    "papermill": {
     "duration": 2.042153,
     "end_time": "2023-10-02T02:41:35.724291",
     "exception": false,
     "start_time": "2023-10-02T02:41:33.682138",
     "status": "completed"
    },
    "tags": []
   },
   "outputs": [
    {
     "data": {
      "text/plain": [
       "<AxesSubplot:xlabel='AvgTemperature', ylabel='Region'>"
      ]
     },
     "execution_count": 15,
     "metadata": {},
     "output_type": "execute_result"
    },
    {
     "data": {
      "image/png": "[encoded data removed]",
      "text/plain": [
       "<Figure size 432x288 with 1 Axes>"
      ]
     },
     "metadata": {
      "needs_background": "light"
     },
     "output_type": "display_data"
    }
   ],
   "source": [
    "#removing outliers\n",
    "sns.boxplot(x = 'AvgTemperature',y = 'Region',data = df_weather)"
   ]
  },
  {
   "cell_type": "markdown",
   "id": "27016bef",
   "metadata": {
    "papermill": {
     "duration": 0.029932,
     "end_time": "2023-10-02T02:41:35.779179",
     "exception": false,
     "start_time": "2023-10-02T02:41:35.749247",
     "status": "completed"
    },
    "tags": []
   },
   "source": [
    "We can notice that for all regions there are temperature well below -60 degrees. This seems a bit odd since all of the regions have one particular value as its last data point. This could be the set baseline of the dataset for this particular two variable association that's why it is better to remove this particular value to have a better representation of the temperature data."
   ]
  },
  {
   "cell_type": "code",
   "execution_count": 16,
   "id": "e2f4792e",
   "metadata": {
    "execution": {
     "iopub.execute_input": "2023-10-02T02:41:35.830072Z",
     "iopub.status.busy": "2023-10-02T02:41:35.829628Z",
     "iopub.status.idle": "2023-10-02T02:41:36.367387Z",
     "shell.execute_reply": "2023-10-02T02:41:36.365542Z"
    },
    "papermill": {
     "duration": 0.56627,
     "end_time": "2023-10-02T02:41:36.369814",
     "exception": false,
     "start_time": "2023-10-02T02:41:35.803544",
     "status": "completed"
    },
    "tags": []
   },
   "outputs": [
    {
     "name": "stdout",
     "output_type": "stream",
     "text": [
      "The outliers from the df_weather dataset is 79672 rows\n"
     ]
    }
   ],
   "source": [
    "#we can see temperature less than -60, remove less than - 60\n",
    "filt = df_weather[df_weather['AvgTemperature'] < -60]\n",
    "df_weather.drop(filt.index, inplace = True)\n",
    "print(f\"The outliers from the df_weather dataset is {filt.shape[0]} rows\")"
   ]
  },
  {
   "cell_type": "markdown",
   "id": "a3e1b94c",
   "metadata": {
    "papermill": {
     "duration": 0.023514,
     "end_time": "2023-10-02T02:41:36.417281",
     "exception": false,
     "start_time": "2023-10-02T02:41:36.393767",
     "status": "completed"
    },
    "tags": []
   },
   "source": [
    "we can't remove more data because the result of the analysis won't be representing the true analysis in terms of temperature."
   ]
  },
  {
   "cell_type": "code",
   "execution_count": 17,
   "id": "ccd8451d",
   "metadata": {
    "execution": {
     "iopub.execute_input": "2023-10-02T02:41:36.469849Z",
     "iopub.status.busy": "2023-10-02T02:41:36.469355Z",
     "iopub.status.idle": "2023-10-02T02:41:37.791786Z",
     "shell.execute_reply": "2023-10-02T02:41:37.791008Z"
    },
    "papermill": {
     "duration": 1.351185,
     "end_time": "2023-10-02T02:41:37.793955",
     "exception": false,
     "start_time": "2023-10-02T02:41:36.442770",
     "status": "completed"
    },
    "tags": []
   },
   "outputs": [
    {
     "data": {
      "image/png": "[encoded data removed]",
      "text/plain": [
       "<Figure size 720x432 with 1 Axes>"
      ]
     },
     "metadata": {
      "needs_background": "light"
     },
     "output_type": "display_data"
    }
   ],
   "source": [
    "plt.figure(figsize=(10, 6))\n",
    "sns.boxplot(data = df_weather, x = 'Year', y = 'AvgTemperature')\n",
    "plt.tight_layout()"
   ]
  },
  {
   "cell_type": "markdown",
   "id": "a7d81eb3",
   "metadata": {
    "papermill": {
     "duration": 0.024275,
     "end_time": "2023-10-02T02:41:37.842887",
     "exception": false,
     "start_time": "2023-10-02T02:41:37.818612",
     "status": "completed"
    },
    "tags": []
   },
   "source": [
    "The temperature for every year since 1995 until 2019 seems even and the same but there may be a major decline during 2020. This may be caused by the pandemic where due to lockdown, some sensors may have stopped working or couldn't be fixed just in time. Because of this, I will remove the 2020 data points."
   ]
  },
  {
   "cell_type": "code",
   "execution_count": 18,
   "id": "db43aff3",
   "metadata": {
    "execution": {
     "iopub.execute_input": "2023-10-02T02:41:37.895120Z",
     "iopub.status.busy": "2023-10-02T02:41:37.893850Z",
     "iopub.status.idle": "2023-10-02T02:41:37.900727Z",
     "shell.execute_reply": "2023-10-02T02:41:37.899363Z"
    },
    "papermill": {
     "duration": 0.035054,
     "end_time": "2023-10-02T02:41:37.903004",
     "exception": false,
     "start_time": "2023-10-02T02:41:37.867950",
     "status": "completed"
    },
    "tags": []
   },
   "outputs": [
    {
     "data": {
      "text/plain": [
       "(2826655, 10)"
      ]
     },
     "execution_count": 18,
     "metadata": {},
     "output_type": "execute_result"
    }
   ],
   "source": [
    "df_weather.shape"
   ]
  },
  {
   "cell_type": "code",
   "execution_count": 19,
   "id": "c33426ff",
   "metadata": {
    "execution": {
     "iopub.execute_input": "2023-10-02T02:41:37.955400Z",
     "iopub.status.busy": "2023-10-02T02:41:37.954187Z",
     "iopub.status.idle": "2023-10-02T02:41:38.284967Z",
     "shell.execute_reply": "2023-10-02T02:41:38.283930Z"
    },
    "papermill": {
     "duration": 0.359162,
     "end_time": "2023-10-02T02:41:38.287535",
     "exception": false,
     "start_time": "2023-10-02T02:41:37.928373",
     "status": "completed"
    },
    "tags": []
   },
   "outputs": [],
   "source": [
    "df_weather = df_weather[df_weather['Date'] < '2020']"
   ]
  },
  {
   "cell_type": "code",
   "execution_count": 20,
   "id": "0dee1321",
   "metadata": {
    "execution": {
     "iopub.execute_input": "2023-10-02T02:41:38.339541Z",
     "iopub.status.busy": "2023-10-02T02:41:38.337865Z",
     "iopub.status.idle": "2023-10-02T02:41:38.346787Z",
     "shell.execute_reply": "2023-10-02T02:41:38.345222Z"
    },
    "papermill": {
     "duration": 0.037533,
     "end_time": "2023-10-02T02:41:38.349556",
     "exception": false,
     "start_time": "2023-10-02T02:41:38.312023",
     "status": "completed"
    },
    "tags": []
   },
   "outputs": [
    {
     "data": {
      "text/plain": [
       "(2787913, 10)"
      ]
     },
     "execution_count": 20,
     "metadata": {},
     "output_type": "execute_result"
    }
   ],
   "source": [
    "df_weather.shape"
   ]
  },
  {
   "cell_type": "markdown",
   "id": "ad6bc0d2",
   "metadata": {
    "papermill": {
     "duration": 0.024342,
     "end_time": "2023-10-02T02:41:38.398001",
     "exception": false,
     "start_time": "2023-10-02T02:41:38.373659",
     "status": "completed"
    },
    "tags": []
   },
   "source": [
    "**Group City and Country to create new Dataset**"
   ]
  },
  {
   "cell_type": "markdown",
   "id": "eff76b33",
   "metadata": {
    "papermill": {
     "duration": 0.024297,
     "end_time": "2023-10-02T02:41:38.446006",
     "exception": false,
     "start_time": "2023-10-02T02:41:38.421709",
     "status": "completed"
    },
    "tags": []
   },
   "source": [
    "Let us create a new dataset called df_city where it would contain the quarterly temperature of each countries and cities. We would be using the median temperature instead of the mean in order to have a better representation of the temperature since the mean is susceptible to outliers."
   ]
  },
  {
   "cell_type": "code",
   "execution_count": 21,
   "id": "691e22c1",
   "metadata": {
    "execution": {
     "iopub.execute_input": "2023-10-02T02:41:38.496588Z",
     "iopub.status.busy": "2023-10-02T02:41:38.496147Z",
     "iopub.status.idle": "2023-10-02T02:41:39.030152Z",
     "shell.execute_reply": "2023-10-02T02:41:39.028903Z"
    },
    "papermill": {
     "duration": 0.562672,
     "end_time": "2023-10-02T02:41:39.032856",
     "exception": false,
     "start_time": "2023-10-02T02:41:38.470184",
     "status": "completed"
    },
    "tags": []
   },
   "outputs": [],
   "source": [
    "#city dataset seperate it from weather data set\n",
    "df_city = pd.DataFrame(df_weather.groupby(['City','Country'])['AvgTemperature'].median())\n",
    "df_city.rename(columns = {'AvgTemperature':'CityMedTemperature'}, inplace = True)"
   ]
  },
  {
   "cell_type": "markdown",
   "id": "aad8c78a",
   "metadata": {
    "papermill": {
     "duration": 0.025395,
     "end_time": "2023-10-02T02:41:39.081844",
     "exception": false,
     "start_time": "2023-10-02T02:41:39.056449",
     "status": "completed"
    },
    "tags": []
   },
   "source": [
    "Another thing we could add is to get the quarterly temperature and create a subsequent column for it in order to associate the weather from the df_city to the seasonal weather from the bicycle dataset."
   ]
  },
  {
   "cell_type": "code",
   "execution_count": 22,
   "id": "d0a81097",
   "metadata": {
    "execution": {
     "iopub.execute_input": "2023-10-02T02:41:39.131805Z",
     "iopub.status.busy": "2023-10-02T02:41:39.131376Z",
     "iopub.status.idle": "2023-10-02T02:41:40.420126Z",
     "shell.execute_reply": "2023-10-02T02:41:40.418789Z"
    },
    "papermill": {
     "duration": 1.318793,
     "end_time": "2023-10-02T02:41:40.424114",
     "exception": false,
     "start_time": "2023-10-02T02:41:39.105321",
     "status": "completed"
    },
    "tags": []
   },
   "outputs": [
    {
     "data": {
      "text/html": [
       "<div>\n",
       "<style scoped>\n",
       "    .dataframe tbody tr th:only-of-type {\n",
       "        vertical-align: middle;\n",
       "    }\n",
       "\n",
       "    .dataframe tbody tr th {\n",
       "        vertical-align: top;\n",
       "    }\n",
       "\n",
       "    .dataframe thead th {\n",
       "        text-align: right;\n",
       "    }\n",
       "</style>\n",
       "<table border=\"1\" class=\"dataframe\">\n",
       "  <thead>\n",
       "    <tr style=\"text-align: right;\">\n",
       "      <th></th>\n",
       "      <th></th>\n",
       "      <th>CityMedTemperature</th>\n",
       "      <th>firstq_city</th>\n",
       "      <th>secondq_city</th>\n",
       "      <th>thirdq_city</th>\n",
       "      <th>fourthq_city</th>\n",
       "    </tr>\n",
       "    <tr>\n",
       "      <th>City</th>\n",
       "      <th>Country</th>\n",
       "      <th></th>\n",
       "      <th></th>\n",
       "      <th></th>\n",
       "      <th></th>\n",
       "      <th></th>\n",
       "    </tr>\n",
       "  </thead>\n",
       "  <tbody>\n",
       "    <tr>\n",
       "      <th>Tirana</th>\n",
       "      <th>Albania</th>\n",
       "      <td>16.11240</td>\n",
       "      <td>9.27852</td>\n",
       "      <td>18.89040</td>\n",
       "      <td>24.55752</td>\n",
       "      <td>12.72324</td>\n",
       "    </tr>\n",
       "    <tr>\n",
       "      <th>Algiers</th>\n",
       "      <th>Algeria</th>\n",
       "      <td>17.61252</td>\n",
       "      <td>11.72316</td>\n",
       "      <td>19.00152</td>\n",
       "      <td>25.44648</td>\n",
       "      <td>15.27900</td>\n",
       "    </tr>\n",
       "    <tr>\n",
       "      <th>Buenos Aires</th>\n",
       "      <th>Argentina</th>\n",
       "      <td>17.33472</td>\n",
       "      <td>22.89072</td>\n",
       "      <td>13.83444</td>\n",
       "      <td>11.88984</td>\n",
       "      <td>19.83492</td>\n",
       "    </tr>\n",
       "    <tr>\n",
       "      <th>Perth</th>\n",
       "      <th>Australia</th>\n",
       "      <td>17.83476</td>\n",
       "      <td>23.89080</td>\n",
       "      <td>16.02906</td>\n",
       "      <td>13.38996</td>\n",
       "      <td>19.66824</td>\n",
       "    </tr>\n",
       "    <tr>\n",
       "      <th>Melbourne</th>\n",
       "      <th>Australia</th>\n",
       "      <td>18.61260</td>\n",
       "      <td>22.66848</td>\n",
       "      <td>16.16796</td>\n",
       "      <td>14.16780</td>\n",
       "      <td>20.33496</td>\n",
       "    </tr>\n",
       "    <tr>\n",
       "      <th>...</th>\n",
       "      <th>...</th>\n",
       "      <td>...</td>\n",
       "      <td>...</td>\n",
       "      <td>...</td>\n",
       "      <td>...</td>\n",
       "      <td>...</td>\n",
       "    </tr>\n",
       "    <tr>\n",
       "      <th>Tashkent</th>\n",
       "      <th>Uzbekistan</th>\n",
       "      <td>16.69578</td>\n",
       "      <td>5.88936</td>\n",
       "      <td>22.66848</td>\n",
       "      <td>27.16884</td>\n",
       "      <td>8.66736</td>\n",
       "    </tr>\n",
       "    <tr>\n",
       "      <th>Caracas</th>\n",
       "      <th>Venezuela</th>\n",
       "      <td>27.33552</td>\n",
       "      <td>26.05764</td>\n",
       "      <td>27.50220</td>\n",
       "      <td>28.16892</td>\n",
       "      <td>27.39108</td>\n",
       "    </tr>\n",
       "    <tr>\n",
       "      <th>Hanoi</th>\n",
       "      <th>Vietnam</th>\n",
       "      <td>25.44648</td>\n",
       "      <td>18.83484</td>\n",
       "      <td>27.64110</td>\n",
       "      <td>28.61340</td>\n",
       "      <td>22.50180</td>\n",
       "    </tr>\n",
       "    <tr>\n",
       "      <th>Belgrade</th>\n",
       "      <th>Yugoslavia</th>\n",
       "      <td>13.33440</td>\n",
       "      <td>3.94476</td>\n",
       "      <td>17.61252</td>\n",
       "      <td>21.55728</td>\n",
       "      <td>7.55616</td>\n",
       "    </tr>\n",
       "    <tr>\n",
       "      <th>Lusaka</th>\n",
       "      <th>Zambia</th>\n",
       "      <td>21.44616</td>\n",
       "      <td>22.16844</td>\n",
       "      <td>18.94596</td>\n",
       "      <td>19.94604</td>\n",
       "      <td>24.44640</td>\n",
       "    </tr>\n",
       "  </tbody>\n",
       "</table>\n",
       "<p>321 rows × 5 columns</p>\n",
       "</div>"
      ],
      "text/plain": [
       "                         CityMedTemperature  firstq_city  secondq_city  \\\n",
       "City         Country                                                     \n",
       "Tirana       Albania               16.11240      9.27852      18.89040   \n",
       "Algiers      Algeria               17.61252     11.72316      19.00152   \n",
       "Buenos Aires Argentina             17.33472     22.89072      13.83444   \n",
       "Perth        Australia             17.83476     23.89080      16.02906   \n",
       "Melbourne    Australia             18.61260     22.66848      16.16796   \n",
       "...                                     ...          ...           ...   \n",
       "Tashkent     Uzbekistan            16.69578      5.88936      22.66848   \n",
       "Caracas      Venezuela             27.33552     26.05764      27.50220   \n",
       "Hanoi        Vietnam               25.44648     18.83484      27.64110   \n",
       "Belgrade     Yugoslavia            13.33440      3.94476      17.61252   \n",
       "Lusaka       Zambia                21.44616     22.16844      18.94596   \n",
       "\n",
       "                         thirdq_city  fourthq_city  \n",
       "City         Country                                \n",
       "Tirana       Albania        24.55752      12.72324  \n",
       "Algiers      Algeria        25.44648      15.27900  \n",
       "Buenos Aires Argentina      11.88984      19.83492  \n",
       "Perth        Australia      13.38996      19.66824  \n",
       "Melbourne    Australia      14.16780      20.33496  \n",
       "...                              ...           ...  \n",
       "Tashkent     Uzbekistan     27.16884       8.66736  \n",
       "Caracas      Venezuela      28.16892      27.39108  \n",
       "Hanoi        Vietnam        28.61340      22.50180  \n",
       "Belgrade     Yugoslavia     21.55728       7.55616  \n",
       "Lusaka       Zambia         19.94604      24.44640  \n",
       "\n",
       "[321 rows x 5 columns]"
      ]
     },
     "execution_count": 22,
     "metadata": {},
     "output_type": "execute_result"
    }
   ],
   "source": [
    "# set each quarter of the city and country to a variable \n",
    "firstq_city = df_weather.groupby('Quarter').get_group(1).groupby(['City','Country'])['AvgTemperature'].median()\n",
    "secondq_city = df_weather.groupby('Quarter').get_group(2).groupby(['City','Country'])['AvgTemperature'].median()\n",
    "thirdq_city = df_weather.groupby('Quarter').get_group(3).groupby(['City','Country'])['AvgTemperature'].median()\n",
    "fourthq_city = df_weather.groupby('Quarter').get_group(4).groupby(['City','Country'])['AvgTemperature'].median()\n",
    "\n",
    "# add those to newly made df_city\n",
    "df_city['firstq_city'] = firstq_city\n",
    "df_city['secondq_city'] = secondq_city\n",
    "df_city['thirdq_city'] = thirdq_city\n",
    "df_city['fourthq_city'] = fourthq_city\n",
    "df_city.sort_values('Country',inplace = True)\n",
    "df_city"
   ]
  },
  {
   "cell_type": "markdown",
   "id": "3e70aa70",
   "metadata": {
    "papermill": {
     "duration": 0.029619,
     "end_time": "2023-10-02T02:41:40.481009",
     "exception": false,
     "start_time": "2023-10-02T02:41:40.451390",
     "status": "completed"
    },
    "tags": []
   },
   "source": [
    "# Population Dataset"
   ]
  },
  {
   "cell_type": "markdown",
   "id": "bc98abb3",
   "metadata": {
    "papermill": {
     "duration": 0.024495,
     "end_time": "2023-10-02T02:41:40.530440",
     "exception": false,
     "start_time": "2023-10-02T02:41:40.505945",
     "status": "completed"
    },
    "tags": []
   },
   "source": [
    "Next up is the Population dataset where we would be getting data in order to find features that would be helpful in predicting suitable cities and countries for a bicycle rental business."
   ]
  },
  {
   "cell_type": "code",
   "execution_count": 23,
   "id": "88d71f06",
   "metadata": {
    "execution": {
     "iopub.execute_input": "2023-10-02T02:41:40.582416Z",
     "iopub.status.busy": "2023-10-02T02:41:40.581466Z",
     "iopub.status.idle": "2023-10-02T02:41:40.593268Z",
     "shell.execute_reply": "2023-10-02T02:41:40.592436Z"
    },
    "papermill": {
     "duration": 0.040188,
     "end_time": "2023-10-02T02:41:40.595483",
     "exception": false,
     "start_time": "2023-10-02T02:41:40.555295",
     "status": "completed"
    },
    "tags": []
   },
   "outputs": [
    {
     "data": {
      "text/html": [
       "<div>\n",
       "<style scoped>\n",
       "    .dataframe tbody tr th:only-of-type {\n",
       "        vertical-align: middle;\n",
       "    }\n",
       "\n",
       "    .dataframe tbody tr th {\n",
       "        vertical-align: top;\n",
       "    }\n",
       "\n",
       "    .dataframe thead th {\n",
       "        text-align: right;\n",
       "    }\n",
       "</style>\n",
       "<table border=\"1\" class=\"dataframe\">\n",
       "  <thead>\n",
       "    <tr style=\"text-align: right;\">\n",
       "      <th></th>\n",
       "      <th>city_name</th>\n",
       "      <th>latitude</th>\n",
       "      <th>longitude</th>\n",
       "      <th>country</th>\n",
       "      <th>population</th>\n",
       "    </tr>\n",
       "  </thead>\n",
       "  <tbody>\n",
       "    <tr>\n",
       "      <th>0</th>\n",
       "      <td>Tokyo</td>\n",
       "      <td>35.6897</td>\n",
       "      <td>139.6922</td>\n",
       "      <td>Japan</td>\n",
       "      <td>37977000.0</td>\n",
       "    </tr>\n",
       "    <tr>\n",
       "      <th>1</th>\n",
       "      <td>Jakarta</td>\n",
       "      <td>-6.2146</td>\n",
       "      <td>106.8451</td>\n",
       "      <td>Indonesia</td>\n",
       "      <td>34540000.0</td>\n",
       "    </tr>\n",
       "    <tr>\n",
       "      <th>2</th>\n",
       "      <td>Delhi</td>\n",
       "      <td>28.6600</td>\n",
       "      <td>77.2300</td>\n",
       "      <td>India</td>\n",
       "      <td>29617000.0</td>\n",
       "    </tr>\n",
       "    <tr>\n",
       "      <th>3</th>\n",
       "      <td>Mumbai</td>\n",
       "      <td>18.9667</td>\n",
       "      <td>72.8333</td>\n",
       "      <td>India</td>\n",
       "      <td>23355000.0</td>\n",
       "    </tr>\n",
       "    <tr>\n",
       "      <th>4</th>\n",
       "      <td>Manila</td>\n",
       "      <td>14.6000</td>\n",
       "      <td>120.9833</td>\n",
       "      <td>Philippines</td>\n",
       "      <td>23088000.0</td>\n",
       "    </tr>\n",
       "  </tbody>\n",
       "</table>\n",
       "</div>"
      ],
      "text/plain": [
       "  city_name   latitude  longitude      country  population\n",
       "0      Tokyo   35.6897   139.6922        Japan  37977000.0\n",
       "1    Jakarta   -6.2146   106.8451    Indonesia  34540000.0\n",
       "2      Delhi   28.6600    77.2300        India  29617000.0\n",
       "3     Mumbai   18.9667    72.8333        India  23355000.0\n",
       "4     Manila   14.6000   120.9833  Philippines  23088000.0"
      ]
     },
     "execution_count": 23,
     "metadata": {},
     "output_type": "execute_result"
    }
   ],
   "source": [
    "df_city_population.head()"
   ]
  },
  {
   "cell_type": "code",
   "execution_count": 24,
   "id": "3f639910",
   "metadata": {
    "execution": {
     "iopub.execute_input": "2023-10-02T02:41:40.648238Z",
     "iopub.status.busy": "2023-10-02T02:41:40.647521Z",
     "iopub.status.idle": "2023-10-02T02:41:40.664126Z",
     "shell.execute_reply": "2023-10-02T02:41:40.663101Z"
    },
    "papermill": {
     "duration": 0.046329,
     "end_time": "2023-10-02T02:41:40.667003",
     "exception": false,
     "start_time": "2023-10-02T02:41:40.620674",
     "status": "completed"
    },
    "tags": []
   },
   "outputs": [
    {
     "name": "stdout",
     "output_type": "stream",
     "text": [
      "<class 'pandas.core.frame.DataFrame'>\n",
      "RangeIndex: 41001 entries, 0 to 41000\n",
      "Data columns (total 5 columns):\n",
      " #   Column      Non-Null Count  Dtype  \n",
      "---  ------      --------------  -----  \n",
      " 0   city_name   41001 non-null  object \n",
      " 1   latitude    41001 non-null  float64\n",
      " 2   longitude   41001 non-null  float64\n",
      " 3   country     41001 non-null  object \n",
      " 4   population  40263 non-null  float64\n",
      "dtypes: float64(3), object(2)\n",
      "memory usage: 1.6+ MB\n"
     ]
    }
   ],
   "source": [
    "df_city_population.info()"
   ]
  },
  {
   "cell_type": "markdown",
   "id": "2efb32fa",
   "metadata": {
    "papermill": {
     "duration": 0.026437,
     "end_time": "2023-10-02T02:41:40.719372",
     "exception": false,
     "start_time": "2023-10-02T02:41:40.692935",
     "status": "completed"
    },
    "tags": []
   },
   "source": [
    "**Data Preprocessing - Population Dataset**"
   ]
  },
  {
   "cell_type": "markdown",
   "id": "b8b6dd16",
   "metadata": {
    "papermill": {
     "duration": 0.02648,
     "end_time": "2023-10-02T02:41:40.771057",
     "exception": false,
     "start_time": "2023-10-02T02:41:40.744577",
     "status": "completed"
    },
    "tags": []
   },
   "source": [
    "Let us rename the needed features to a title case since that is what we've used in the previous datasets."
   ]
  },
  {
   "cell_type": "code",
   "execution_count": 25,
   "id": "d3b61797",
   "metadata": {
    "execution": {
     "iopub.execute_input": "2023-10-02T02:41:40.829785Z",
     "iopub.status.busy": "2023-10-02T02:41:40.829308Z",
     "iopub.status.idle": "2023-10-02T02:41:40.837996Z",
     "shell.execute_reply": "2023-10-02T02:41:40.836720Z"
    },
    "papermill": {
     "duration": 0.038045,
     "end_time": "2023-10-02T02:41:40.840226",
     "exception": false,
     "start_time": "2023-10-02T02:41:40.802181",
     "status": "completed"
    },
    "tags": []
   },
   "outputs": [],
   "source": [
    "# rename city column\n",
    "df_city_population.rename(columns = {'city_name ':'City','country':'Country'}, inplace = True)\n",
    "\n",
    "# only get needed columns in df_city_population\n",
    "df_city_population = df_city_population[['City','population']]"
   ]
  },
  {
   "cell_type": "markdown",
   "id": "148f2728",
   "metadata": {
    "papermill": {
     "duration": 0.025064,
     "end_time": "2023-10-02T02:41:40.891481",
     "exception": false,
     "start_time": "2023-10-02T02:41:40.866417",
     "status": "completed"
    },
    "tags": []
   },
   "source": [
    "After doing that, let us now include the features City and population to the df_city dataset."
   ]
  },
  {
   "cell_type": "code",
   "execution_count": 26,
   "id": "15ff2d96",
   "metadata": {
    "execution": {
     "iopub.execute_input": "2023-10-02T02:41:40.945321Z",
     "iopub.status.busy": "2023-10-02T02:41:40.944471Z",
     "iopub.status.idle": "2023-10-02T02:41:41.042512Z",
     "shell.execute_reply": "2023-10-02T02:41:41.040933Z"
    },
    "papermill": {
     "duration": 0.12992,
     "end_time": "2023-10-02T02:41:41.045515",
     "exception": false,
     "start_time": "2023-10-02T02:41:40.915595",
     "status": "completed"
    },
    "tags": []
   },
   "outputs": [],
   "source": [
    "#join df_city_population and df_city\n",
    "df_city = df_city.reset_index().set_index('City').join(df_city_population.set_index('City'))"
   ]
  },
  {
   "cell_type": "code",
   "execution_count": 27,
   "id": "55e985c3",
   "metadata": {
    "execution": {
     "iopub.execute_input": "2023-10-02T02:41:41.098867Z",
     "iopub.status.busy": "2023-10-02T02:41:41.098459Z",
     "iopub.status.idle": "2023-10-02T02:41:41.114356Z",
     "shell.execute_reply": "2023-10-02T02:41:41.112858Z"
    },
    "papermill": {
     "duration": 0.045912,
     "end_time": "2023-10-02T02:41:41.116945",
     "exception": false,
     "start_time": "2023-10-02T02:41:41.071033",
     "status": "completed"
    },
    "tags": []
   },
   "outputs": [
    {
     "data": {
      "text/html": [
       "<div>\n",
       "<style scoped>\n",
       "    .dataframe tbody tr th:only-of-type {\n",
       "        vertical-align: middle;\n",
       "    }\n",
       "\n",
       "    .dataframe tbody tr th {\n",
       "        vertical-align: top;\n",
       "    }\n",
       "\n",
       "    .dataframe thead th {\n",
       "        text-align: right;\n",
       "    }\n",
       "</style>\n",
       "<table border=\"1\" class=\"dataframe\">\n",
       "  <thead>\n",
       "    <tr style=\"text-align: right;\">\n",
       "      <th></th>\n",
       "      <th>Country</th>\n",
       "      <th>CityMedTemperature</th>\n",
       "      <th>firstq_city</th>\n",
       "      <th>secondq_city</th>\n",
       "      <th>thirdq_city</th>\n",
       "      <th>fourthq_city</th>\n",
       "      <th>population</th>\n",
       "    </tr>\n",
       "    <tr>\n",
       "      <th>City</th>\n",
       "      <th></th>\n",
       "      <th></th>\n",
       "      <th></th>\n",
       "      <th></th>\n",
       "      <th></th>\n",
       "      <th></th>\n",
       "      <th></th>\n",
       "    </tr>\n",
       "  </thead>\n",
       "  <tbody>\n",
       "    <tr>\n",
       "      <th>Abidjan</th>\n",
       "      <td>Ivory Coast</td>\n",
       "      <td>27.00216</td>\n",
       "      <td>27.94668</td>\n",
       "      <td>27.55776</td>\n",
       "      <td>25.11312</td>\n",
       "      <td>27.27996</td>\n",
       "      <td>4980000.0</td>\n",
       "    </tr>\n",
       "    <tr>\n",
       "      <th>Abilene</th>\n",
       "      <td>US</td>\n",
       "      <td>19.27932</td>\n",
       "      <td>10.27860</td>\n",
       "      <td>23.22408</td>\n",
       "      <td>27.66888</td>\n",
       "      <td>13.50108</td>\n",
       "      <td>123420.0</td>\n",
       "    </tr>\n",
       "    <tr>\n",
       "      <th>Abilene</th>\n",
       "      <td>US</td>\n",
       "      <td>19.27932</td>\n",
       "      <td>10.27860</td>\n",
       "      <td>23.22408</td>\n",
       "      <td>27.66888</td>\n",
       "      <td>13.50108</td>\n",
       "      <td>6390.0</td>\n",
       "    </tr>\n",
       "    <tr>\n",
       "      <th>Abu Dhabi</th>\n",
       "      <td>United Arab Emirates</td>\n",
       "      <td>29.28012</td>\n",
       "      <td>20.61276</td>\n",
       "      <td>31.94700</td>\n",
       "      <td>35.00280</td>\n",
       "      <td>25.27980</td>\n",
       "      <td>1000000.0</td>\n",
       "    </tr>\n",
       "    <tr>\n",
       "      <th>Addis Ababa</th>\n",
       "      <td>Ethiopia</td>\n",
       "      <td>16.94580</td>\n",
       "      <td>17.83476</td>\n",
       "      <td>18.33480</td>\n",
       "      <td>15.94572</td>\n",
       "      <td>16.61244</td>\n",
       "      <td>3041002.0</td>\n",
       "    </tr>\n",
       "  </tbody>\n",
       "</table>\n",
       "</div>"
      ],
      "text/plain": [
       "                          Country  CityMedTemperature  firstq_city  \\\n",
       "City                                                                 \n",
       "Abidjan               Ivory Coast            27.00216     27.94668   \n",
       "Abilene                        US            19.27932     10.27860   \n",
       "Abilene                        US            19.27932     10.27860   \n",
       "Abu Dhabi    United Arab Emirates            29.28012     20.61276   \n",
       "Addis Ababa              Ethiopia            16.94580     17.83476   \n",
       "\n",
       "             secondq_city  thirdq_city  fourthq_city  population  \n",
       "City                                                              \n",
       "Abidjan          27.55776     25.11312      27.27996   4980000.0  \n",
       "Abilene          23.22408     27.66888      13.50108    123420.0  \n",
       "Abilene          23.22408     27.66888      13.50108      6390.0  \n",
       "Abu Dhabi        31.94700     35.00280      25.27980   1000000.0  \n",
       "Addis Ababa      18.33480     15.94572      16.61244   3041002.0  "
      ]
     },
     "execution_count": 27,
     "metadata": {},
     "output_type": "execute_result"
    }
   ],
   "source": [
    "df_city.head()"
   ]
  },
  {
   "cell_type": "markdown",
   "id": "21d9ad6d",
   "metadata": {
    "papermill": {
     "duration": 0.025607,
     "end_time": "2023-10-02T02:41:41.168132",
     "exception": false,
     "start_time": "2023-10-02T02:41:41.142525",
     "status": "completed"
    },
    "tags": []
   },
   "source": [
    "# GDP per Capita Dataset"
   ]
  },
  {
   "cell_type": "markdown",
   "id": "05fdae1e",
   "metadata": {
    "papermill": {
     "duration": 0.025819,
     "end_time": "2023-10-02T02:41:41.220027",
     "exception": false,
     "start_time": "2023-10-02T02:41:41.194208",
     "status": "completed"
    },
    "tags": []
   },
   "source": [
    "This is the final dataset that we would be including in our analyzation. The GDP of each country is very helpful to quantify the economy of each countries which could serve as a very good indicator for our model."
   ]
  },
  {
   "cell_type": "code",
   "execution_count": 28,
   "id": "596639a7",
   "metadata": {
    "execution": {
     "iopub.execute_input": "2023-10-02T02:41:41.272643Z",
     "iopub.status.busy": "2023-10-02T02:41:41.272198Z",
     "iopub.status.idle": "2023-10-02T02:41:41.279430Z",
     "shell.execute_reply": "2023-10-02T02:41:41.278142Z"
    },
    "papermill": {
     "duration": 0.036368,
     "end_time": "2023-10-02T02:41:41.281916",
     "exception": false,
     "start_time": "2023-10-02T02:41:41.245548",
     "status": "completed"
    },
    "tags": []
   },
   "outputs": [
    {
     "data": {
      "text/plain": [
       "50"
      ]
     },
     "execution_count": 28,
     "metadata": {},
     "output_type": "execute_result"
    }
   ],
   "source": [
    "#get number of columns\n",
    "len(df_population.columns)"
   ]
  },
  {
   "cell_type": "markdown",
   "id": "2842e9d3",
   "metadata": {
    "papermill": {
     "duration": 0.024969,
     "end_time": "2023-10-02T02:41:41.334558",
     "exception": false,
     "start_time": "2023-10-02T02:41:41.309589",
     "status": "completed"
    },
    "tags": []
   },
   "source": [
    "This dataset has plenty of columns so I refrained from displaying it, but rather I'd just get the needed columns from this dataset."
   ]
  },
  {
   "cell_type": "code",
   "execution_count": 29,
   "id": "0fb8dc97",
   "metadata": {
    "execution": {
     "iopub.execute_input": "2023-10-02T02:41:41.387344Z",
     "iopub.status.busy": "2023-10-02T02:41:41.386994Z",
     "iopub.status.idle": "2023-10-02T02:41:41.403578Z",
     "shell.execute_reply": "2023-10-02T02:41:41.402193Z"
    },
    "papermill": {
     "duration": 0.046384,
     "end_time": "2023-10-02T02:41:41.406390",
     "exception": false,
     "start_time": "2023-10-02T02:41:41.360006",
     "status": "completed"
    },
    "tags": []
   },
   "outputs": [],
   "source": [
    "#just get useful columns from population data set\n",
    "df_population = pd.DataFrame([df_population['country'],df_population['GDP per capita (current US$)']]).T\n",
    "df_population.rename(columns = {'GDP per capita (current US$)':'GDP_capita'}, inplace = True)"
   ]
  },
  {
   "cell_type": "code",
   "execution_count": 30,
   "id": "658fc72c",
   "metadata": {
    "execution": {
     "iopub.execute_input": "2023-10-02T02:41:41.461088Z",
     "iopub.status.busy": "2023-10-02T02:41:41.460706Z",
     "iopub.status.idle": "2023-10-02T02:41:41.471429Z",
     "shell.execute_reply": "2023-10-02T02:41:41.470202Z"
    },
    "papermill": {
     "duration": 0.041763,
     "end_time": "2023-10-02T02:41:41.473895",
     "exception": false,
     "start_time": "2023-10-02T02:41:41.432132",
     "status": "completed"
    },
    "tags": []
   },
   "outputs": [
    {
     "data": {
      "text/html": [
       "<div>\n",
       "<style scoped>\n",
       "    .dataframe tbody tr th:only-of-type {\n",
       "        vertical-align: middle;\n",
       "    }\n",
       "\n",
       "    .dataframe tbody tr th {\n",
       "        vertical-align: top;\n",
       "    }\n",
       "\n",
       "    .dataframe thead th {\n",
       "        text-align: right;\n",
       "    }\n",
       "</style>\n",
       "<table border=\"1\" class=\"dataframe\">\n",
       "  <thead>\n",
       "    <tr style=\"text-align: right;\">\n",
       "      <th></th>\n",
       "      <th>country</th>\n",
       "      <th>GDP_capita</th>\n",
       "    </tr>\n",
       "  </thead>\n",
       "  <tbody>\n",
       "    <tr>\n",
       "      <th>0</th>\n",
       "      <td>Afghanistan</td>\n",
       "      <td>623.2</td>\n",
       "    </tr>\n",
       "    <tr>\n",
       "      <th>1</th>\n",
       "      <td>Albania</td>\n",
       "      <td>3984.2</td>\n",
       "    </tr>\n",
       "    <tr>\n",
       "      <th>2</th>\n",
       "      <td>Algeria</td>\n",
       "      <td>4154.1</td>\n",
       "    </tr>\n",
       "    <tr>\n",
       "      <th>3</th>\n",
       "      <td>American Samoa</td>\n",
       "      <td>-99.0</td>\n",
       "    </tr>\n",
       "    <tr>\n",
       "      <th>4</th>\n",
       "      <td>Andorra</td>\n",
       "      <td>39896.4</td>\n",
       "    </tr>\n",
       "  </tbody>\n",
       "</table>\n",
       "</div>"
      ],
      "text/plain": [
       "          country GDP_capita\n",
       "0     Afghanistan      623.2\n",
       "1         Albania     3984.2\n",
       "2         Algeria     4154.1\n",
       "3  American Samoa      -99.0\n",
       "4         Andorra    39896.4"
      ]
     },
     "execution_count": 30,
     "metadata": {},
     "output_type": "execute_result"
    }
   ],
   "source": [
    "df_population.head()"
   ]
  },
  {
   "cell_type": "markdown",
   "id": "21494a9a",
   "metadata": {
    "papermill": {
     "duration": 0.025301,
     "end_time": "2023-10-02T02:41:41.525168",
     "exception": false,
     "start_time": "2023-10-02T02:41:41.499867",
     "status": "completed"
    },
    "tags": []
   },
   "source": [
    "There are country's name that differs between the population dataset and GDP dataset. To be able to have a better representation, let us alter the names of the countries so that it could match."
   ]
  },
  {
   "cell_type": "code",
   "execution_count": 31,
   "id": "4d78bbfe",
   "metadata": {
    "execution": {
     "iopub.execute_input": "2023-10-02T02:41:41.578235Z",
     "iopub.status.busy": "2023-10-02T02:41:41.577813Z",
     "iopub.status.idle": "2023-10-02T02:41:41.584005Z",
     "shell.execute_reply": "2023-10-02T02:41:41.582666Z"
    },
    "papermill": {
     "duration": 0.03524,
     "end_time": "2023-10-02T02:41:41.586048",
     "exception": false,
     "start_time": "2023-10-02T02:41:41.550808",
     "status": "completed"
    },
    "tags": []
   },
   "outputs": [],
   "source": [
    "#change the name of United States of America to US\n",
    "df_population['country'].replace({'United States of America':'US'}, inplace = True)"
   ]
  },
  {
   "cell_type": "markdown",
   "id": "f8316240",
   "metadata": {
    "papermill": {
     "duration": 0.024981,
     "end_time": "2023-10-02T02:41:41.636152",
     "exception": false,
     "start_time": "2023-10-02T02:41:41.611171",
     "status": "completed"
    },
    "tags": []
   },
   "source": [
    "**Check for Outliers**"
   ]
  },
  {
   "cell_type": "markdown",
   "id": "57231e11",
   "metadata": {
    "papermill": {
     "duration": 0.025145,
     "end_time": "2023-10-02T02:41:41.686883",
     "exception": false,
     "start_time": "2023-10-02T02:41:41.661738",
     "status": "completed"
    },
    "tags": []
   },
   "source": [
    "As we all know, wealth is generally dispersed between countries that's why it is normal to have outliers in both spectrums."
   ]
  },
  {
   "cell_type": "code",
   "execution_count": 32,
   "id": "5d221720",
   "metadata": {
    "execution": {
     "iopub.execute_input": "2023-10-02T02:41:41.739420Z",
     "iopub.status.busy": "2023-10-02T02:41:41.739016Z",
     "iopub.status.idle": "2023-10-02T02:41:41.864442Z",
     "shell.execute_reply": "2023-10-02T02:41:41.863216Z"
    },
    "papermill": {
     "duration": 0.15484,
     "end_time": "2023-10-02T02:41:41.867040",
     "exception": false,
     "start_time": "2023-10-02T02:41:41.712200",
     "status": "completed"
    },
    "tags": []
   },
   "outputs": [
    {
     "data": {
      "text/plain": [
       "<AxesSubplot:xlabel='GDP_capita'>"
      ]
     },
     "execution_count": 32,
     "metadata": {},
     "output_type": "execute_result"
    },
    {
     "data": {
      "image/png": "[encoded data removed]",
      "text/plain": [
       "<Figure size 432x288 with 1 Axes>"
      ]
     },
     "metadata": {
      "needs_background": "light"
     },
     "output_type": "display_data"
    }
   ],
   "source": [
    "#check outliers\n",
    "sns.boxplot(x = 'GDP_capita',data = df_population)"
   ]
  },
  {
   "cell_type": "markdown",
   "id": "f568e72c",
   "metadata": {
    "papermill": {
     "duration": 0.026741,
     "end_time": "2023-10-02T02:41:41.920077",
     "exception": false,
     "start_time": "2023-10-02T02:41:41.893336",
     "status": "completed"
    },
    "tags": []
   },
   "source": [
    "After that, let us include the data from the GDP dataset to the df_city dataset. "
   ]
  },
  {
   "cell_type": "code",
   "execution_count": 33,
   "id": "5ba6eb94",
   "metadata": {
    "execution": {
     "iopub.execute_input": "2023-10-02T02:41:41.975273Z",
     "iopub.status.busy": "2023-10-02T02:41:41.974810Z",
     "iopub.status.idle": "2023-10-02T02:41:41.987295Z",
     "shell.execute_reply": "2023-10-02T02:41:41.986342Z"
    },
    "papermill": {
     "duration": 0.043717,
     "end_time": "2023-10-02T02:41:41.989791",
     "exception": false,
     "start_time": "2023-10-02T02:41:41.946074",
     "status": "completed"
    },
    "tags": []
   },
   "outputs": [],
   "source": [
    "# add gdp per capita in df_city and combine df_city and df_population\n",
    "df_city = df_city.reset_index().set_index('Country').join(df_population.set_index('country'))"
   ]
  },
  {
   "cell_type": "code",
   "execution_count": 34,
   "id": "6f32970a",
   "metadata": {
    "execution": {
     "iopub.execute_input": "2023-10-02T02:41:42.049050Z",
     "iopub.status.busy": "2023-10-02T02:41:42.047711Z",
     "iopub.status.idle": "2023-10-02T02:41:42.054726Z",
     "shell.execute_reply": "2023-10-02T02:41:42.053846Z"
    },
    "papermill": {
     "duration": 0.036322,
     "end_time": "2023-10-02T02:41:42.056857",
     "exception": false,
     "start_time": "2023-10-02T02:41:42.020535",
     "status": "completed"
    },
    "tags": []
   },
   "outputs": [],
   "source": [
    "#change column name 'index' to 'country' and reset index\n",
    "df_city.reset_index(inplace = True)\n",
    "df_city.rename(columns = {'index':'Country'}, inplace = True)"
   ]
  },
  {
   "cell_type": "markdown",
   "id": "29989d51",
   "metadata": {
    "papermill": {
     "duration": 0.025293,
     "end_time": "2023-10-02T02:41:42.107759",
     "exception": false,
     "start_time": "2023-10-02T02:41:42.082466",
     "status": "completed"
    },
    "tags": []
   },
   "source": [
    "# Exploratory Data Analysis"
   ]
  },
  {
   "cell_type": "markdown",
   "id": "b180fd59",
   "metadata": {
    "papermill": {
     "duration": 0.02513,
     "end_time": "2023-10-02T02:41:42.158416",
     "exception": false,
     "start_time": "2023-10-02T02:41:42.133286",
     "status": "completed"
    },
    "tags": []
   },
   "source": [
    "Let us first find out if there are any correlation between casual/registered users and seasons/months."
   ]
  },
  {
   "cell_type": "code",
   "execution_count": 35,
   "id": "207d0c5d",
   "metadata": {
    "execution": {
     "iopub.execute_input": "2023-10-02T02:41:42.212085Z",
     "iopub.status.busy": "2023-10-02T02:41:42.211240Z",
     "iopub.status.idle": "2023-10-02T02:41:42.758735Z",
     "shell.execute_reply": "2023-10-02T02:41:42.757300Z"
    },
    "papermill": {
     "duration": 0.577309,
     "end_time": "2023-10-02T02:41:42.761181",
     "exception": false,
     "start_time": "2023-10-02T02:41:42.183872",
     "status": "completed"
    },
    "tags": []
   },
   "outputs": [
    {
     "data": {
      "text/plain": [
       "<AxesSubplot:xlabel='mnth', ylabel='registered'>"
      ]
     },
     "execution_count": 35,
     "metadata": {},
     "output_type": "execute_result"
    },
    {
     "data": {
      "image/png": "[encoded data removed]",
      "text/plain": [
       "<Figure size 864x288 with 2 Axes>"
      ]
     },
     "metadata": {
      "needs_background": "light"
     },
     "output_type": "display_data"
    }
   ],
   "source": [
    "# graph for monthly users\n",
    "fig, ax =plt.subplots(1,2,figsize=(12, 4))\n",
    "sns.boxplot(x = 'mnth', y = df['casual'], ax=ax[0], data = df)\n",
    "sns.boxplot(x = 'mnth', y = df['registered'], ax=ax[1], data = df)"
   ]
  },
  {
   "cell_type": "markdown",
   "id": "f319e75b",
   "metadata": {
    "papermill": {
     "duration": 0.026223,
     "end_time": "2023-10-02T02:41:42.814532",
     "exception": false,
     "start_time": "2023-10-02T02:41:42.788309",
     "status": "completed"
    },
    "tags": []
   },
   "source": [
    "Users of bike rentals show a clear parabolic trend over the months, with the highest usage occurring in September and the lowest in January. To understand this trend better, let's examine how the weather is related to these monthly variations."
   ]
  },
  {
   "cell_type": "code",
   "execution_count": 36,
   "id": "fdacbeec",
   "metadata": {
    "execution": {
     "iopub.execute_input": "2023-10-02T02:41:42.868997Z",
     "iopub.status.busy": "2023-10-02T02:41:42.868495Z",
     "iopub.status.idle": "2023-10-02T02:41:44.000257Z",
     "shell.execute_reply": "2023-10-02T02:41:43.998706Z"
    },
    "papermill": {
     "duration": 1.163541,
     "end_time": "2023-10-02T02:41:44.003752",
     "exception": false,
     "start_time": "2023-10-02T02:41:42.840211",
     "status": "completed"
    },
    "tags": []
   },
   "outputs": [
    {
     "data": {
      "image/png": "[encoded data removed]",
      "text/plain": [
       "<Figure size 1440x1080 with 4 Axes>"
      ]
     },
     "metadata": {
      "needs_background": "light"
     },
     "output_type": "display_data"
    }
   ],
   "source": [
    "# associate months with weather\n",
    "weather = [ 'temp', 'atemp', 'hum', 'windspeed']\n",
    "fig,ax1 = plt.subplots(2,2,figsize = (20,15))\n",
    "for i, number in enumerate(weather):\n",
    "    sns.boxplot(x = 'mnth',y = number, ax=ax1[i//2, i%2],data=df)"
   ]
  },
  {
   "cell_type": "markdown",
   "id": "114c171a",
   "metadata": {
    "papermill": {
     "duration": 0.108409,
     "end_time": "2023-10-02T02:41:44.140810",
     "exception": false,
     "start_time": "2023-10-02T02:41:44.032401",
     "status": "completed"
    },
    "tags": []
   },
   "source": [
    "Similar to the parabolic shape observed in the monthly users' graph, we notice a similar trend when we look at how temperature varies with months. Temperature reaches its peak in July and hits its lowest point in January."
   ]
  },
  {
   "cell_type": "code",
   "execution_count": 37,
   "id": "3dc534e2",
   "metadata": {
    "execution": {
     "iopub.execute_input": "2023-10-02T02:41:44.198084Z",
     "iopub.status.busy": "2023-10-02T02:41:44.197625Z",
     "iopub.status.idle": "2023-10-02T02:41:44.541080Z",
     "shell.execute_reply": "2023-10-02T02:41:44.539543Z"
    },
    "papermill": {
     "duration": 0.374991,
     "end_time": "2023-10-02T02:41:44.543717",
     "exception": false,
     "start_time": "2023-10-02T02:41:44.168726",
     "status": "completed"
    },
    "tags": []
   },
   "outputs": [
    {
     "data": {
      "text/plain": [
       "<AxesSubplot:xlabel='season', ylabel='registered'>"
      ]
     },
     "execution_count": 37,
     "metadata": {},
     "output_type": "execute_result"
    },
    {
     "data": {
      "image/png": "[encoded data removed]",
      "text/plain": [
       "<Figure size 864x288 with 2 Axes>"
      ]
     },
     "metadata": {
      "needs_background": "light"
     },
     "output_type": "display_data"
    }
   ],
   "source": [
    "# graph for seasonal users\n",
    "fig, ax =plt.subplots(1,2,figsize=(12, 4))\n",
    "sns.boxplot(x = 'season', y = df['casual'], ax=ax[0], data = df)\n",
    "sns.boxplot(x = 'season', y = df['registered'], ax=ax[1], data = df)"
   ]
  },
  {
   "cell_type": "markdown",
   "id": "c3294ae4",
   "metadata": {
    "papermill": {
     "duration": 0.027132,
     "end_time": "2023-10-02T02:41:44.598281",
     "exception": false,
     "start_time": "2023-10-02T02:41:44.571149",
     "status": "completed"
    },
    "tags": []
   },
   "source": [
    "We can observe that both casual and registered bike rental users experience spikes during the summer (orange) and fall (green) seasons. To understand the reasons behind this pattern, let's explore how these seasons are connected to the weather conditions."
   ]
  },
  {
   "cell_type": "code",
   "execution_count": 38,
   "id": "32f38458",
   "metadata": {
    "execution": {
     "iopub.execute_input": "2023-10-02T02:41:44.656460Z",
     "iopub.status.busy": "2023-10-02T02:41:44.655975Z",
     "iopub.status.idle": "2023-10-02T02:41:45.584490Z",
     "shell.execute_reply": "2023-10-02T02:41:45.583084Z"
    },
    "papermill": {
     "duration": 0.960986,
     "end_time": "2023-10-02T02:41:45.586847",
     "exception": false,
     "start_time": "2023-10-02T02:41:44.625861",
     "status": "completed"
    },
    "tags": []
   },
   "outputs": [
    {
     "data": {
      "image/png": "[encoded data removed]",
      "text/plain": [
       "<Figure size 1440x1080 with 4 Axes>"
      ]
     },
     "metadata": {
      "needs_background": "light"
     },
     "output_type": "display_data"
    }
   ],
   "source": [
    "# associate seasons with weather\n",
    "weather = [ 'temp', 'atemp', 'hum', 'windspeed']\n",
    "fig,ax1 = plt.subplots(2,2,figsize = (20,15))\n",
    "for i, number in enumerate(weather):\n",
    "    sns.boxplot(x = 'season',y = number, ax=ax1[i//2, i%2],data=df)"
   ]
  },
  {
   "cell_type": "markdown",
   "id": "4c47d34e",
   "metadata": {
    "papermill": {
     "duration": 0.027658,
     "end_time": "2023-10-02T02:41:45.642669",
     "exception": false,
     "start_time": "2023-10-02T02:41:45.615011",
     "status": "completed"
    },
    "tags": []
   },
   "source": [
    "Based on the graph above, we could makethe following observations:\n",
    "\n",
    "* Temperature and felt temperature are highest during summer (2) and fall (3) and lowest in spring (1) and winter (4).\n",
    "\n",
    "* Humidity levels remain fairly consistent across all seasons, but there's more variability in humidity during summer (2).\n",
    "\n",
    "* Windspeed is relatively consistent across most seasons, with the lowest windspeed in fall (3). However, it's more variable during winter (4).\n",
    "\n",
    "We could notice that spring(1) is colder than winter(4) and fall(3) is hotter than summer(2) in this dataset. Let us find out whether this is just a naming error or if it is true."
   ]
  },
  {
   "cell_type": "code",
   "execution_count": 39,
   "id": "40ca7999",
   "metadata": {
    "execution": {
     "iopub.execute_input": "2023-10-02T02:41:45.701873Z",
     "iopub.status.busy": "2023-10-02T02:41:45.701452Z",
     "iopub.status.idle": "2023-10-02T02:41:46.349543Z",
     "shell.execute_reply": "2023-10-02T02:41:46.348320Z"
    },
    "papermill": {
     "duration": 0.680465,
     "end_time": "2023-10-02T02:41:46.351883",
     "exception": false,
     "start_time": "2023-10-02T02:41:45.671418",
     "status": "completed"
    },
    "tags": []
   },
   "outputs": [
    {
     "data": {
      "text/plain": [
       "<AxesSubplot:xlabel='temp', ylabel='Count'>"
      ]
     },
     "execution_count": 39,
     "metadata": {},
     "output_type": "execute_result"
    },
    {
     "data": {
      "image/png": "[encoded data removed]",
      "text/plain": [
       "<Figure size 864x288 with 2 Axes>"
      ]
     },
     "metadata": {
      "needs_background": "light"
     },
     "output_type": "display_data"
    }
   ],
   "source": [
    "# graph for distribution of temperature and season\n",
    "fig, ax =plt.subplots(1,2,figsize=(12, 4))\n",
    "sns.histplot(x = 'season', data = df, hue = 'weathersit', ax = ax[0])\n",
    "sns.histplot(x = 'temp',hue = 'season',data = df, ax = ax[1])"
   ]
  },
  {
   "cell_type": "markdown",
   "id": "d983cf0e",
   "metadata": {
    "papermill": {
     "duration": 0.035705,
     "end_time": "2023-10-02T02:41:46.416343",
     "exception": false,
     "start_time": "2023-10-02T02:41:46.380638",
     "status": "completed"
    },
    "tags": []
   },
   "source": [
    "On the left graph, weather situation (weathersit) number 4 corresponds to snow and fog, and it's most prevalent during winter (4). On the right graph, the temperature distribution across seasons reveals that spring (1) consistently has lower temperatures compared to winter (4)."
   ]
  },
  {
   "cell_type": "code",
   "execution_count": 40,
   "id": "1103028f",
   "metadata": {
    "execution": {
     "iopub.execute_input": "2023-10-02T02:41:46.477149Z",
     "iopub.status.busy": "2023-10-02T02:41:46.476013Z",
     "iopub.status.idle": "2023-10-02T02:41:46.881132Z",
     "shell.execute_reply": "2023-10-02T02:41:46.879764Z"
    },
    "papermill": {
     "duration": 0.437865,
     "end_time": "2023-10-02T02:41:46.883682",
     "exception": false,
     "start_time": "2023-10-02T02:41:46.445817",
     "status": "completed"
    },
    "tags": []
   },
   "outputs": [
    {
     "data": {
      "text/plain": [
       "<AxesSubplot:xlabel='mnth', ylabel='count'>"
      ]
     },
     "execution_count": 40,
     "metadata": {},
     "output_type": "execute_result"
    },
    {
     "data": {
      "image/png": "[encoded data removed]",
      "text/plain": [
       "<Figure size 432x288 with 1 Axes>"
      ]
     },
     "metadata": {
      "needs_background": "light"
     },
     "output_type": "display_data"
    }
   ],
   "source": [
    "sns.countplot(x = 'mnth', hue = 'season', data = df)"
   ]
  },
  {
   "cell_type": "markdown",
   "id": "57d4bfc1",
   "metadata": {
    "papermill": {
     "duration": 0.028598,
     "end_time": "2023-10-02T02:41:46.942436",
     "exception": false,
     "start_time": "2023-10-02T02:41:46.913838",
     "status": "completed"
    },
    "tags": []
   },
   "source": [
    "The variation in temperature, with spring being colder than winter and fall being hotter during the summer, can be attributed to a mismatch in the categorization of seasons. In the United States, winter typically starts in late December and extends up to March. However, in this dataset, the majority of this period is categorized as spring (1). To address this discrepancy, we'll avoid referring to these categories as seasons and instead use quarters or specific months for more accurate representation."
   ]
  },
  {
   "cell_type": "markdown",
   "id": "00679d60",
   "metadata": {
    "papermill": {
     "duration": 0.028817,
     "end_time": "2023-10-02T02:41:47.000310",
     "exception": false,
     "start_time": "2023-10-02T02:41:46.971493",
     "status": "completed"
    },
    "tags": []
   },
   "source": [
    "# Thoughts:\n",
    "In our data set, the most suitable time to operate a bike rental business based on their temperature and number of users are during the quarters 3,2,4,1 respectively. We will consider the weather during the third, second and fourth quarter in the same order due to its close relationship with bike rental users."
   ]
  },
  {
   "cell_type": "markdown",
   "id": "6c807e82",
   "metadata": {
    "papermill": {
     "duration": 0.028687,
     "end_time": "2023-10-02T02:41:47.062356",
     "exception": false,
     "start_time": "2023-10-02T02:41:47.033669",
     "status": "completed"
    },
    "tags": []
   },
   "source": [
    "# Association with weather data set"
   ]
  },
  {
   "cell_type": "markdown",
   "id": "6c4dc8ef",
   "metadata": {
    "papermill": {
     "duration": 0.029977,
     "end_time": "2023-10-02T02:41:47.123604",
     "exception": false,
     "start_time": "2023-10-02T02:41:47.093627",
     "status": "completed"
    },
    "tags": []
   },
   "source": [
    "Let us find out countries and cities that are suitable for bike rental all year round."
   ]
  },
  {
   "cell_type": "code",
   "execution_count": 41,
   "id": "5d2a781e",
   "metadata": {
    "execution": {
     "iopub.execute_input": "2023-10-02T02:41:47.186689Z",
     "iopub.status.busy": "2023-10-02T02:41:47.185977Z",
     "iopub.status.idle": "2023-10-02T02:41:47.197732Z",
     "shell.execute_reply": "2023-10-02T02:41:47.196463Z"
    },
    "papermill": {
     "duration": 0.04718,
     "end_time": "2023-10-02T02:41:47.200459",
     "exception": false,
     "start_time": "2023-10-02T02:41:47.153279",
     "status": "completed"
    },
    "tags": []
   },
   "outputs": [
    {
     "name": "stdout",
     "output_type": "stream",
     "text": [
      "the range of the median of the 3rd quarter and fourth quarter (29.2979 - 16.7758) degrees celcius\n"
     ]
    }
   ],
   "source": [
    "# temp and atemp of season 3,2,4\n",
    "#focus on 25th - 75th percentile\n",
    "tmp3 = df.groupby('season')['temp'].get_group(3)\n",
    "tmp2 = df.groupby('season')['temp'].get_group(2)\n",
    "tmp4 = df.groupby('season')['temp'].get_group(4)\n",
    "print(f\"the range of the median of the 3rd quarter and fourth quarter ({tmp3.median():.4f} - {tmp4.median():.4f}) degrees celcius\")"
   ]
  },
  {
   "cell_type": "markdown",
   "id": "28e7888e",
   "metadata": {
    "papermill": {
     "duration": 0.030188,
     "end_time": "2023-10-02T02:41:47.261237",
     "exception": false,
     "start_time": "2023-10-02T02:41:47.231049",
     "status": "completed"
    },
    "tags": []
   },
   "source": [
    "I excluded data from quarter '1' because it had a median temperature of only 11.7 degrees Celsius. This low temperature is likely too cold for bicycle rentals, and including it could have distorted our overall analysis. So, I decided to omit it from our dataset to ensure our analysis better represents the conditions relevant to the bicycle rental business.\n",
    "\n",
    "\n",
    "\n",
    "The temperature suitable for bike rental business came from the median temperature of the third quarter(29.30 degrees) and the median temperature of the fourth quarter (16.78) which gives a temperature range of 16.78 - 29.30 degrees celcius. We would also filter out those countries that has less than the average GDP per capita and population."
   ]
  },
  {
   "cell_type": "code",
   "execution_count": 42,
   "id": "d3f74e53",
   "metadata": {
    "execution": {
     "iopub.execute_input": "2023-10-02T02:41:47.326277Z",
     "iopub.status.busy": "2023-10-02T02:41:47.325506Z",
     "iopub.status.idle": "2023-10-02T02:41:47.339964Z",
     "shell.execute_reply": "2023-10-02T02:41:47.338460Z"
    },
    "papermill": {
     "duration": 0.051867,
     "end_time": "2023-10-02T02:41:47.342592",
     "exception": false,
     "start_time": "2023-10-02T02:41:47.290725",
     "status": "completed"
    },
    "tags": []
   },
   "outputs": [
    {
     "name": "stdout",
     "output_type": "stream",
     "text": [
      "There are a total of 3 Countries that has suitable weather for biking, has enough GDP per capita and population\n",
      "There are a total of 16 cities that has suitable weather for biking, has enough GDP per capita and population\n"
     ]
    }
   ],
   "source": [
    "#countries and cities that are under this temperature year round.\n",
    "filt = (df_city['CityMedTemperature'] > 16.78) & (df_city['CityMedTemperature'] < 29.30) & (df_city['GDP_capita'] > df_city['GDP_capita'].mean()) & (df_city['population'] > df_city['population'].mean())\n",
    "cities = df_city[filt].sort_values(['GDP_capita','population'],ascending = [False, False])\n",
    "print(f\"There are a total of {len(cities['Country'].unique())} Countries that has suitable weather for biking, has enough GDP per capita and population\")\n",
    "print(f\"There are a total of {cities.shape[0]} cities that has suitable weather for biking, has enough GDP per capita and population\")"
   ]
  },
  {
   "cell_type": "code",
   "execution_count": 43,
   "id": "29d88ce6",
   "metadata": {
    "execution": {
     "iopub.execute_input": "2023-10-02T02:41:47.403301Z",
     "iopub.status.busy": "2023-10-02T02:41:47.402865Z",
     "iopub.status.idle": "2023-10-02T02:41:47.423417Z",
     "shell.execute_reply": "2023-10-02T02:41:47.421768Z"
    },
    "papermill": {
     "duration": 0.054278,
     "end_time": "2023-10-02T02:41:47.426025",
     "exception": false,
     "start_time": "2023-10-02T02:41:47.371747",
     "status": "completed"
    },
    "tags": []
   },
   "outputs": [
    {
     "data": {
      "text/html": [
       "<div>\n",
       "<style scoped>\n",
       "    .dataframe tbody tr th:only-of-type {\n",
       "        vertical-align: middle;\n",
       "    }\n",
       "\n",
       "    .dataframe tbody tr th {\n",
       "        vertical-align: top;\n",
       "    }\n",
       "\n",
       "    .dataframe thead th {\n",
       "        text-align: right;\n",
       "    }\n",
       "</style>\n",
       "<table border=\"1\" class=\"dataframe\">\n",
       "  <thead>\n",
       "    <tr style=\"text-align: right;\">\n",
       "      <th></th>\n",
       "      <th>Country</th>\n",
       "      <th>City</th>\n",
       "      <th>CityMedTemperature</th>\n",
       "      <th>firstq_city</th>\n",
       "      <th>secondq_city</th>\n",
       "      <th>thirdq_city</th>\n",
       "      <th>fourthq_city</th>\n",
       "      <th>population</th>\n",
       "      <th>GDP_capita</th>\n",
       "    </tr>\n",
       "  </thead>\n",
       "  <tbody>\n",
       "    <tr>\n",
       "      <th>451</th>\n",
       "      <td>US</td>\n",
       "      <td>Los Angeles</td>\n",
       "      <td>17.11248</td>\n",
       "      <td>14.05668</td>\n",
       "      <td>17.05692</td>\n",
       "      <td>20.27940</td>\n",
       "      <td>16.44576</td>\n",
       "      <td>12750807.0</td>\n",
       "      <td>56053.8</td>\n",
       "    </tr>\n",
       "    <tr>\n",
       "      <th>396</th>\n",
       "      <td>US</td>\n",
       "      <td>Houston</td>\n",
       "      <td>22.27956</td>\n",
       "      <td>14.77896</td>\n",
       "      <td>25.05756</td>\n",
       "      <td>28.22448</td>\n",
       "      <td>17.58474</td>\n",
       "      <td>5464251.0</td>\n",
       "      <td>56053.8</td>\n",
       "    </tr>\n",
       "    <tr>\n",
       "      <th>269</th>\n",
       "      <td>US</td>\n",
       "      <td>Atlanta</td>\n",
       "      <td>18.22368</td>\n",
       "      <td>9.50076</td>\n",
       "      <td>22.05732</td>\n",
       "      <td>25.61316</td>\n",
       "      <td>12.88992</td>\n",
       "      <td>5449398.0</td>\n",
       "      <td>56053.8</td>\n",
       "    </tr>\n",
       "    <tr>\n",
       "      <th>506</th>\n",
       "      <td>US</td>\n",
       "      <td>Phoenix</td>\n",
       "      <td>24.27972</td>\n",
       "      <td>15.83460</td>\n",
       "      <td>28.61340</td>\n",
       "      <td>34.28052</td>\n",
       "      <td>18.22368</td>\n",
       "      <td>4219697.0</td>\n",
       "      <td>56053.8</td>\n",
       "    </tr>\n",
       "    <tr>\n",
       "      <th>571</th>\n",
       "      <td>US</td>\n",
       "      <td>San Diego</td>\n",
       "      <td>17.44584</td>\n",
       "      <td>14.66784</td>\n",
       "      <td>17.50140</td>\n",
       "      <td>21.11280</td>\n",
       "      <td>16.77912</td>\n",
       "      <td>3220118.0</td>\n",
       "      <td>56053.8</td>\n",
       "    </tr>\n",
       "    <tr>\n",
       "      <th>277</th>\n",
       "      <td>US</td>\n",
       "      <td>Birmingham</td>\n",
       "      <td>18.89040</td>\n",
       "      <td>10.00080</td>\n",
       "      <td>22.55736</td>\n",
       "      <td>26.22432</td>\n",
       "      <td>13.05660</td>\n",
       "      <td>2897303.0</td>\n",
       "      <td>56053.8</td>\n",
       "    </tr>\n",
       "    <tr>\n",
       "      <th>431</th>\n",
       "      <td>US</td>\n",
       "      <td>Las Vegas</td>\n",
       "      <td>20.72388</td>\n",
       "      <td>12.11208</td>\n",
       "      <td>25.72428</td>\n",
       "      <td>32.66928</td>\n",
       "      <td>14.00112</td>\n",
       "      <td>2104198.0</td>\n",
       "      <td>56053.8</td>\n",
       "    </tr>\n",
       "    <tr>\n",
       "      <th>563</th>\n",
       "      <td>US</td>\n",
       "      <td>San Antonio</td>\n",
       "      <td>22.05732</td>\n",
       "      <td>14.52894</td>\n",
       "      <td>25.05756</td>\n",
       "      <td>28.72452</td>\n",
       "      <td>17.05692</td>\n",
       "      <td>2049293.0</td>\n",
       "      <td>56053.8</td>\n",
       "    </tr>\n",
       "    <tr>\n",
       "      <th>500</th>\n",
       "      <td>US</td>\n",
       "      <td>Orlando</td>\n",
       "      <td>23.44632</td>\n",
       "      <td>18.22368</td>\n",
       "      <td>24.89088</td>\n",
       "      <td>26.94660</td>\n",
       "      <td>20.89056</td>\n",
       "      <td>1822394.0</td>\n",
       "      <td>56053.8</td>\n",
       "    </tr>\n",
       "    <tr>\n",
       "      <th>272</th>\n",
       "      <td>US</td>\n",
       "      <td>Austin</td>\n",
       "      <td>21.55728</td>\n",
       "      <td>13.13994</td>\n",
       "      <td>24.72420</td>\n",
       "      <td>28.33560</td>\n",
       "      <td>16.14018</td>\n",
       "      <td>1687311.0</td>\n",
       "      <td>56053.8</td>\n",
       "    </tr>\n",
       "    <tr>\n",
       "      <th>332</th>\n",
       "      <td>US</td>\n",
       "      <td>Columbus</td>\n",
       "      <td>17.00136</td>\n",
       "      <td>6.83388</td>\n",
       "      <td>20.94612</td>\n",
       "      <td>25.05756</td>\n",
       "      <td>10.94532</td>\n",
       "      <td>1562009.0</td>\n",
       "      <td>56053.8</td>\n",
       "    </tr>\n",
       "    <tr>\n",
       "      <th>312</th>\n",
       "      <td>US</td>\n",
       "      <td>Charlotte</td>\n",
       "      <td>17.22360</td>\n",
       "      <td>8.22288</td>\n",
       "      <td>21.22392</td>\n",
       "      <td>25.05756</td>\n",
       "      <td>11.55648</td>\n",
       "      <td>1512923.0</td>\n",
       "      <td>56053.8</td>\n",
       "    </tr>\n",
       "    <tr>\n",
       "      <th>221</th>\n",
       "      <td>Singapore</td>\n",
       "      <td>Singapore</td>\n",
       "      <td>27.94668</td>\n",
       "      <td>27.44664</td>\n",
       "      <td>28.66896</td>\n",
       "      <td>28.44672</td>\n",
       "      <td>27.50220</td>\n",
       "      <td>5745000.0</td>\n",
       "      <td>52239.0</td>\n",
       "    </tr>\n",
       "    <tr>\n",
       "      <th>7</th>\n",
       "      <td>Australia</td>\n",
       "      <td>Melbourne</td>\n",
       "      <td>18.61260</td>\n",
       "      <td>22.66848</td>\n",
       "      <td>16.16796</td>\n",
       "      <td>14.16780</td>\n",
       "      <td>20.33496</td>\n",
       "      <td>5078193.0</td>\n",
       "      <td>51352.2</td>\n",
       "    </tr>\n",
       "    <tr>\n",
       "      <th>5</th>\n",
       "      <td>Australia</td>\n",
       "      <td>Brisbane</td>\n",
       "      <td>20.77944</td>\n",
       "      <td>24.50196</td>\n",
       "      <td>18.33480</td>\n",
       "      <td>16.22352</td>\n",
       "      <td>22.50180</td>\n",
       "      <td>2514184.0</td>\n",
       "      <td>51352.2</td>\n",
       "    </tr>\n",
       "    <tr>\n",
       "      <th>9</th>\n",
       "      <td>Australia</td>\n",
       "      <td>Perth</td>\n",
       "      <td>17.83476</td>\n",
       "      <td>23.89080</td>\n",
       "      <td>16.02906</td>\n",
       "      <td>13.38996</td>\n",
       "      <td>19.66824</td>\n",
       "      <td>2059484.0</td>\n",
       "      <td>51352.2</td>\n",
       "    </tr>\n",
       "  </tbody>\n",
       "</table>\n",
       "</div>"
      ],
      "text/plain": [
       "       Country         City  CityMedTemperature  firstq_city  secondq_city  \\\n",
       "451         US  Los Angeles            17.11248     14.05668      17.05692   \n",
       "396         US      Houston            22.27956     14.77896      25.05756   \n",
       "269         US      Atlanta            18.22368      9.50076      22.05732   \n",
       "506         US      Phoenix            24.27972     15.83460      28.61340   \n",
       "571         US    San Diego            17.44584     14.66784      17.50140   \n",
       "277         US   Birmingham            18.89040     10.00080      22.55736   \n",
       "431         US    Las Vegas            20.72388     12.11208      25.72428   \n",
       "563         US  San Antonio            22.05732     14.52894      25.05756   \n",
       "500         US      Orlando            23.44632     18.22368      24.89088   \n",
       "272         US       Austin            21.55728     13.13994      24.72420   \n",
       "332         US     Columbus            17.00136      6.83388      20.94612   \n",
       "312         US    Charlotte            17.22360      8.22288      21.22392   \n",
       "221  Singapore    Singapore            27.94668     27.44664      28.66896   \n",
       "7    Australia    Melbourne            18.61260     22.66848      16.16796   \n",
       "5    Australia     Brisbane            20.77944     24.50196      18.33480   \n",
       "9    Australia        Perth            17.83476     23.89080      16.02906   \n",
       "\n",
       "     thirdq_city  fourthq_city  population GDP_capita  \n",
       "451     20.27940      16.44576  12750807.0    56053.8  \n",
       "396     28.22448      17.58474   5464251.0    56053.8  \n",
       "269     25.61316      12.88992   5449398.0    56053.8  \n",
       "506     34.28052      18.22368   4219697.0    56053.8  \n",
       "571     21.11280      16.77912   3220118.0    56053.8  \n",
       "277     26.22432      13.05660   2897303.0    56053.8  \n",
       "431     32.66928      14.00112   2104198.0    56053.8  \n",
       "563     28.72452      17.05692   2049293.0    56053.8  \n",
       "500     26.94660      20.89056   1822394.0    56053.8  \n",
       "272     28.33560      16.14018   1687311.0    56053.8  \n",
       "332     25.05756      10.94532   1562009.0    56053.8  \n",
       "312     25.05756      11.55648   1512923.0    56053.8  \n",
       "221     28.44672      27.50220   5745000.0    52239.0  \n",
       "7       14.16780      20.33496   5078193.0    51352.2  \n",
       "5       16.22352      22.50180   2514184.0    51352.2  \n",
       "9       13.38996      19.66824   2059484.0    51352.2  "
      ]
     },
     "execution_count": 43,
     "metadata": {},
     "output_type": "execute_result"
    }
   ],
   "source": [
    "cities"
   ]
  },
  {
   "cell_type": "code",
   "execution_count": 44,
   "id": "eddb726c",
   "metadata": {
    "execution": {
     "iopub.execute_input": "2023-10-02T02:41:47.488152Z",
     "iopub.status.busy": "2023-10-02T02:41:47.487726Z",
     "iopub.status.idle": "2023-10-02T02:41:47.695110Z",
     "shell.execute_reply": "2023-10-02T02:41:47.693681Z"
    },
    "papermill": {
     "duration": 0.24195,
     "end_time": "2023-10-02T02:41:47.697932",
     "exception": false,
     "start_time": "2023-10-02T02:41:47.455982",
     "status": "completed"
    },
    "tags": []
   },
   "outputs": [
    {
     "data": {
      "text/plain": [
       "Text(0.5, 1.0, 'Number of Cities per Country')"
      ]
     },
     "execution_count": 44,
     "metadata": {},
     "output_type": "execute_result"
    },
    {
     "data": {
      "image/png": "[encoded data removed]",
      "text/plain": [
       "<Figure size 432x288 with 1 Axes>"
      ]
     },
     "metadata": {
      "needs_background": "light"
     },
     "output_type": "display_data"
    }
   ],
   "source": [
    "# count plot of number of cities in each country\n",
    "df1 = pd.DataFrame(cities)\n",
    "sns.countplot(x = 'Country', data = df1, order = df1['Country'].value_counts().index)\n",
    "plt.title(\"Number of Cities per Country\")"
   ]
  },
  {
   "cell_type": "code",
   "execution_count": 45,
   "id": "04a70040",
   "metadata": {
    "execution": {
     "iopub.execute_input": "2023-10-02T02:41:47.761751Z",
     "iopub.status.busy": "2023-10-02T02:41:47.761364Z",
     "iopub.status.idle": "2023-10-02T02:41:48.030507Z",
     "shell.execute_reply": "2023-10-02T02:41:48.029059Z"
    },
    "papermill": {
     "duration": 0.304254,
     "end_time": "2023-10-02T02:41:48.033436",
     "exception": false,
     "start_time": "2023-10-02T02:41:47.729182",
     "status": "completed"
    },
    "tags": []
   },
   "outputs": [
    {
     "data": {
      "text/plain": [
       "Text(0.5, 1.0, 'GDP per Capita of Qualified Countries')"
      ]
     },
     "execution_count": 45,
     "metadata": {},
     "output_type": "execute_result"
    },
    {
     "data": {
      "image/png": "[encoded data removed]",
      "text/plain": [
       "<Figure size 432x288 with 1 Axes>"
      ]
     },
     "metadata": {
      "needs_background": "light"
     },
     "output_type": "display_data"
    }
   ],
   "source": [
    "#graph gdp per capita of qualified countries\n",
    "sns.barplot(x = 'Country', y = 'GDP_capita', data = df1)\n",
    "plt.title(\"GDP per Capita of Qualified Countries\")"
   ]
  },
  {
   "cell_type": "markdown",
   "id": "21c3e2c9",
   "metadata": {
    "papermill": {
     "duration": 0.030527,
     "end_time": "2023-10-02T02:41:48.096730",
     "exception": false,
     "start_time": "2023-10-02T02:41:48.066203",
     "status": "completed"
    },
    "tags": []
   },
   "source": [
    "There are only three suitable countries that passed the temperature,gdp, population test, those countries are  the USA,Singapore,and Australia. The mean population of each city is 1256180 people. USA has the most number of cities with 12, Australia has 3, and singapore has one."
   ]
  },
  {
   "cell_type": "code",
   "execution_count": 46,
   "id": "6f11b733",
   "metadata": {
    "execution": {
     "iopub.execute_input": "2023-10-02T02:41:48.164277Z",
     "iopub.status.busy": "2023-10-02T02:41:48.163907Z",
     "iopub.status.idle": "2023-10-02T02:41:48.485496Z",
     "shell.execute_reply": "2023-10-02T02:41:48.483991Z"
    },
    "papermill": {
     "duration": 0.358724,
     "end_time": "2023-10-02T02:41:48.487881",
     "exception": false,
     "start_time": "2023-10-02T02:41:48.129157",
     "status": "completed"
    },
    "tags": []
   },
   "outputs": [
    {
     "data": {
      "text/plain": [
       "<AxesSubplot:title={'center':'Suitable Cities for Biking Rental Business'}, xlabel='population', ylabel='City'>"
      ]
     },
     "execution_count": 46,
     "metadata": {},
     "output_type": "execute_result"
    },
    {
     "data": {
      "image/png": "[encoded data removed]",
      "text/plain": [
       "<Figure size 432x288 with 1 Axes>"
      ]
     },
     "metadata": {
      "needs_background": "light"
     },
     "output_type": "display_data"
    }
   ],
   "source": [
    "# order of most suitable cities for biking\n",
    "plt.title(\"Suitable Cities for Biking Rental Business\")\n",
    "sns.barplot(y = 'City', x = 'population', data = df1.sort_values('population', ascending = False))"
   ]
  },
  {
   "cell_type": "markdown",
   "id": "a9d4e72f",
   "metadata": {
    "papermill": {
     "duration": 0.029443,
     "end_time": "2023-10-02T02:41:48.548431",
     "exception": false,
     "start_time": "2023-10-02T02:41:48.518988",
     "status": "completed"
    },
    "tags": []
   },
   "source": [
    "Based on this graph, opening our bike rental business in these 16 cities primarily lead by Los Angeles, Singapore, Houston, Atlanta, and Melbourne would provide the best chance of our business succeeding due to its economical landscape, number of people in the city and its weather."
   ]
  },
  {
   "cell_type": "markdown",
   "id": "215782ba",
   "metadata": {
    "papermill": {
     "duration": 0.03005,
     "end_time": "2023-10-02T02:41:48.609093",
     "exception": false,
     "start_time": "2023-10-02T02:41:48.579043",
     "status": "completed"
    },
    "tags": []
   },
   "source": [
    "# Findings\n",
    "1. The popularity of using bikes as the people's main source of transportation is based on the weather of the country.\n",
    "2. Based on our analyzation from the given data, countries such as the United States of America, Singapore, and Australia are the most suitable countries to build a bicycle rental business.\n"
   ]
  },
  {
   "cell_type": "markdown",
   "id": "8a69f885",
   "metadata": {
    "papermill": {
     "duration": 0.029442,
     "end_time": "2023-10-02T02:41:48.667981",
     "exception": false,
     "start_time": "2023-10-02T02:41:48.638539",
     "status": "completed"
    },
    "tags": []
   },
   "source": [
    "# Machine Learning"
   ]
  },
  {
   "cell_type": "markdown",
   "id": "09b2baf6",
   "metadata": {
    "papermill": {
     "duration": 0.029839,
     "end_time": "2023-10-02T02:41:48.728062",
     "exception": false,
     "start_time": "2023-10-02T02:41:48.698223",
     "status": "completed"
    },
    "tags": []
   },
   "source": [
    "This section elevates the entire notebook as we transition to utilizing machine learning for the purpose of determining whether a particular location is suitable for establishing a bicycle rental business."
   ]
  },
  {
   "cell_type": "markdown",
   "id": "8b9bd741",
   "metadata": {
    "papermill": {
     "duration": 0.032388,
     "end_time": "2023-10-02T02:41:48.791276",
     "exception": false,
     "start_time": "2023-10-02T02:41:48.758888",
     "status": "completed"
    },
    "tags": []
   },
   "source": [
    "**Adding response variable**"
   ]
  },
  {
   "cell_type": "markdown",
   "id": "cd3f77a1",
   "metadata": {
    "papermill": {
     "duration": 0.032197,
     "end_time": "2023-10-02T02:41:48.854737",
     "exception": false,
     "start_time": "2023-10-02T02:41:48.822540",
     "status": "completed"
    },
    "tags": []
   },
   "source": [
    "Based on our analyzation from the previous section, the range of temperature that is suitable for bicycle rental business is 29.2979 - 16.7758 degrees celcius. Let us explore its variability within its distribution to have a better idea of the response variable."
   ]
  },
  {
   "cell_type": "code",
   "execution_count": 47,
   "id": "93d0d988",
   "metadata": {
    "execution": {
     "iopub.execute_input": "2023-10-02T02:41:48.917552Z",
     "iopub.status.busy": "2023-10-02T02:41:48.917134Z",
     "iopub.status.idle": "2023-10-02T02:41:49.115533Z",
     "shell.execute_reply": "2023-10-02T02:41:49.114323Z"
    },
    "papermill": {
     "duration": 0.23354,
     "end_time": "2023-10-02T02:41:49.118280",
     "exception": false,
     "start_time": "2023-10-02T02:41:48.884740",
     "status": "completed"
    },
    "tags": []
   },
   "outputs": [
    {
     "data": {
      "text/plain": [
       "(array([221., 438.,  71.]),\n",
       " array([-10.,  15.,  30.,  35.]),\n",
       " <BarContainer object of 3 artists>)"
      ]
     },
     "execution_count": 47,
     "metadata": {},
     "output_type": "execute_result"
    },
    {
     "data": {
      "image/png": "[encoded data removed]",
      "text/plain": [
       "<Figure size 432x288 with 1 Axes>"
      ]
     },
     "metadata": {
      "needs_background": "light"
     },
     "output_type": "display_data"
    }
   ],
   "source": [
    "bin_edges = [ -10.0, 15.0, 30.0, 35.0]  # Adjust these values as needed\n",
    "\n",
    "plt.hist(x = df['temp'], bins=bin_edges, edgecolor='k')"
   ]
  },
  {
   "cell_type": "markdown",
   "id": "213bdfe7",
   "metadata": {
    "papermill": {
     "duration": 0.030916,
     "end_time": "2023-10-02T02:41:49.181499",
     "exception": false,
     "start_time": "2023-10-02T02:41:49.150583",
     "status": "completed"
    },
    "tags": []
   },
   "source": [
    "Based on the given range from the data exploration section, it appears that the data has an uneven distribution. To create more equally-sized bins, we can narrow the range by calculating the mean of the range and then determining values that are 20% below and 20% above the mean. This will result in a smaller, more balanced range for binning."
   ]
  },
  {
   "cell_type": "code",
   "execution_count": 48,
   "id": "1c835611",
   "metadata": {
    "execution": {
     "iopub.execute_input": "2023-10-02T02:41:49.246801Z",
     "iopub.status.busy": "2023-10-02T02:41:49.246366Z",
     "iopub.status.idle": "2023-10-02T02:41:49.253483Z",
     "shell.execute_reply": "2023-10-02T02:41:49.251928Z"
    },
    "papermill": {
     "duration": 0.042672,
     "end_time": "2023-10-02T02:41:49.256154",
     "exception": false,
     "start_time": "2023-10-02T02:41:49.213482",
     "status": "completed"
    },
    "tags": []
   },
   "outputs": [
    {
     "name": "stdout",
     "output_type": "stream",
     "text": [
      "Above mean: 18.42948, Below mean: 27.64422\n"
     ]
    }
   ],
   "source": [
    "mean_value = (29.2979 + 16.7758) / 2\n",
    "value_20_percent_below = mean_value - 0.2 * mean_value\n",
    "value_20_percent_above = mean_value + 0.2 * mean_value\n",
    "print(f\"Above mean: {value_20_percent_below}, Below mean: {value_20_percent_above}\")"
   ]
  },
  {
   "cell_type": "markdown",
   "id": "bbc6e635",
   "metadata": {
    "papermill": {
     "duration": 0.03098,
     "end_time": "2023-10-02T02:41:49.318791",
     "exception": false,
     "start_time": "2023-10-02T02:41:49.287811",
     "status": "completed"
    },
    "tags": []
   },
   "source": [
    "Based on our computation, our new range in temperature ranges from 18.42948 - 27.64422."
   ]
  },
  {
   "cell_type": "code",
   "execution_count": 49,
   "id": "8e4bb652",
   "metadata": {
    "execution": {
     "iopub.execute_input": "2023-10-02T02:41:49.387030Z",
     "iopub.status.busy": "2023-10-02T02:41:49.385607Z",
     "iopub.status.idle": "2023-10-02T02:41:49.591990Z",
     "shell.execute_reply": "2023-10-02T02:41:49.590881Z"
    },
    "papermill": {
     "duration": 0.241488,
     "end_time": "2023-10-02T02:41:49.594133",
     "exception": false,
     "start_time": "2023-10-02T02:41:49.352645",
     "status": "completed"
    },
    "tags": []
   },
   "outputs": [
    {
     "data": {
      "text/plain": [
       "(array([317., 237., 177.]),\n",
       " array([-10.     ,  18.42948,  27.     ,  50.     ]),\n",
       " <BarContainer object of 3 artists>)"
      ]
     },
     "execution_count": 49,
     "metadata": {},
     "output_type": "execute_result"
    },
    {
     "data": {
      "image/png": "[encoded data removed]",
      "text/plain": [
       "<Figure size 432x288 with 1 Axes>"
      ]
     },
     "metadata": {
      "needs_background": "light"
     },
     "output_type": "display_data"
    }
   ],
   "source": [
    "bin_edges = [ -10.0, 18.42948, 27, 50.0]  # Adjust these values as needed\n",
    "\n",
    "plt.hist(x = df['temp'], bins=bin_edges, edgecolor='k')"
   ]
  },
  {
   "cell_type": "markdown",
   "id": "4d9fcf27",
   "metadata": {
    "papermill": {
     "duration": 0.03117,
     "end_time": "2023-10-02T02:41:49.656528",
     "exception": false,
     "start_time": "2023-10-02T02:41:49.625358",
     "status": "completed"
    },
    "tags": []
   },
   "source": [
    "Our objective in this step was to balance the distribution of bins to prevent an excessive concentration of 'success' (1) in our data. This balance facilitates a more effective evaluation of the model."
   ]
  },
  {
   "cell_type": "code",
   "execution_count": 50,
   "id": "71ab1306",
   "metadata": {
    "execution": {
     "iopub.execute_input": "2023-10-02T02:41:49.721303Z",
     "iopub.status.busy": "2023-10-02T02:41:49.720910Z",
     "iopub.status.idle": "2023-10-02T02:41:49.727337Z",
     "shell.execute_reply": "2023-10-02T02:41:49.726527Z"
    },
    "papermill": {
     "duration": 0.041341,
     "end_time": "2023-10-02T02:41:49.729379",
     "exception": false,
     "start_time": "2023-10-02T02:41:49.688038",
     "status": "completed"
    },
    "tags": []
   },
   "outputs": [],
   "source": [
    "df_city['Suitable'] = np.where((df_city['CityMedTemperature'] >= 18.42948) & (df_city['CityMedTemperature'] <= 27), 1, 0)"
   ]
  },
  {
   "cell_type": "markdown",
   "id": "4ffeb826",
   "metadata": {
    "papermill": {
     "duration": 0.031861,
     "end_time": "2023-10-02T02:41:49.793049",
     "exception": false,
     "start_time": "2023-10-02T02:41:49.761188",
     "status": "completed"
    },
    "tags": []
   },
   "source": [
    "My approach would be to train model using df and test it usinf city_df\n",
    "\n",
    "update: I would just use city_df"
   ]
  },
  {
   "cell_type": "code",
   "execution_count": 51,
   "id": "1e0a6157",
   "metadata": {
    "execution": {
     "iopub.execute_input": "2023-10-02T02:41:49.857912Z",
     "iopub.status.busy": "2023-10-02T02:41:49.857290Z",
     "iopub.status.idle": "2023-10-02T02:41:49.866024Z",
     "shell.execute_reply": "2023-10-02T02:41:49.865223Z"
    },
    "papermill": {
     "duration": 0.043955,
     "end_time": "2023-10-02T02:41:49.868155",
     "exception": false,
     "start_time": "2023-10-02T02:41:49.824200",
     "status": "completed"
    },
    "tags": []
   },
   "outputs": [
    {
     "data": {
      "text/plain": [
       "US                    0.535714\n",
       "Bermuda               0.077381\n",
       "Costa Rica            0.059524\n",
       "Dominican Republic    0.029762\n",
       "Australia             0.017857\n",
       "China                 0.017857\n",
       "Egypt                 0.017857\n",
       "Mexico                0.017857\n",
       "Brazil                0.017857\n",
       "Cyprus                0.011905\n",
       "Name: Country, dtype: float64"
      ]
     },
     "execution_count": 51,
     "metadata": {},
     "output_type": "execute_result"
    }
   ],
   "source": [
    "df_city['Country'].where(df_city['Suitable'] == 1).value_counts(normalize=True).head(10)"
   ]
  },
  {
   "cell_type": "code",
   "execution_count": 52,
   "id": "26ad633d",
   "metadata": {
    "execution": {
     "iopub.execute_input": "2023-10-02T02:41:49.934766Z",
     "iopub.status.busy": "2023-10-02T02:41:49.934188Z",
     "iopub.status.idle": "2023-10-02T02:41:49.945452Z",
     "shell.execute_reply": "2023-10-02T02:41:49.944428Z"
    },
    "papermill": {
     "duration": 0.047039,
     "end_time": "2023-10-02T02:41:49.947775",
     "exception": false,
     "start_time": "2023-10-02T02:41:49.900736",
     "status": "completed"
    },
    "tags": []
   },
   "outputs": [
    {
     "name": "stdout",
     "output_type": "stream",
     "text": [
      "<class 'pandas.core.frame.DataFrame'>\n",
      "RangeIndex: 676 entries, 0 to 675\n",
      "Data columns (total 10 columns):\n",
      " #   Column              Non-Null Count  Dtype  \n",
      "---  ------              --------------  -----  \n",
      " 0   Country             676 non-null    object \n",
      " 1   City                676 non-null    object \n",
      " 2   CityMedTemperature  676 non-null    float64\n",
      " 3   firstq_city         676 non-null    float64\n",
      " 4   secondq_city        676 non-null    float64\n",
      " 5   thirdq_city         676 non-null    float64\n",
      " 6   fourthq_city        676 non-null    float64\n",
      " 7   population          637 non-null    float64\n",
      " 8   GDP_capita          643 non-null    object \n",
      " 9   Suitable            676 non-null    int64  \n",
      "dtypes: float64(6), int64(1), object(3)\n",
      "memory usage: 52.9+ KB\n"
     ]
    }
   ],
   "source": [
    "df_city.info()"
   ]
  },
  {
   "cell_type": "code",
   "execution_count": 53,
   "id": "86b9e2f2",
   "metadata": {
    "execution": {
     "iopub.execute_input": "2023-10-02T02:41:50.017426Z",
     "iopub.status.busy": "2023-10-02T02:41:50.016734Z",
     "iopub.status.idle": "2023-10-02T02:41:50.174082Z",
     "shell.execute_reply": "2023-10-02T02:41:50.172585Z"
    },
    "papermill": {
     "duration": 0.196731,
     "end_time": "2023-10-02T02:41:50.176735",
     "exception": false,
     "start_time": "2023-10-02T02:41:49.980004",
     "status": "completed"
    },
    "tags": []
   },
   "outputs": [],
   "source": [
    "from sklearn.compose import ColumnTransformer\n",
    "from sklearn.pipeline import Pipeline\n",
    "from sklearn.impute import SimpleImputer\n",
    "from sklearn.preprocessing import StandardScaler, OneHotEncoder"
   ]
  },
  {
   "cell_type": "code",
   "execution_count": 54,
   "id": "120fa0af",
   "metadata": {
    "execution": {
     "iopub.execute_input": "2023-10-02T02:41:50.244508Z",
     "iopub.status.busy": "2023-10-02T02:41:50.244047Z",
     "iopub.status.idle": "2023-10-02T02:41:50.250201Z",
     "shell.execute_reply": "2023-10-02T02:41:50.249189Z"
    },
    "papermill": {
     "duration": 0.043275,
     "end_time": "2023-10-02T02:41:50.252185",
     "exception": false,
     "start_time": "2023-10-02T02:41:50.208910",
     "status": "completed"
    },
    "tags": []
   },
   "outputs": [],
   "source": [
    "df_city['GDP_capita'] = df_city['GDP_capita'].astype(float)"
   ]
  },
  {
   "cell_type": "code",
   "execution_count": 55,
   "id": "f728ba7b",
   "metadata": {
    "execution": {
     "iopub.execute_input": "2023-10-02T02:41:50.317675Z",
     "iopub.status.busy": "2023-10-02T02:41:50.316963Z",
     "iopub.status.idle": "2023-10-02T02:41:50.321539Z",
     "shell.execute_reply": "2023-10-02T02:41:50.320688Z"
    },
    "papermill": {
     "duration": 0.041227,
     "end_time": "2023-10-02T02:41:50.324287",
     "exception": false,
     "start_time": "2023-10-02T02:41:50.283060",
     "status": "completed"
    },
    "tags": []
   },
   "outputs": [],
   "source": [
    "numerical = ['CityMedTemperature', 'firstq_city', 'secondq_city', 'thirdq_city', 'fourthq_city',\n",
    "             'population', 'GDP_capita']\n",
    "categorical = ['Country', 'City']"
   ]
  },
  {
   "cell_type": "code",
   "execution_count": 56,
   "id": "8adce072",
   "metadata": {
    "execution": {
     "iopub.execute_input": "2023-10-02T02:41:50.399772Z",
     "iopub.status.busy": "2023-10-02T02:41:50.398970Z",
     "iopub.status.idle": "2023-10-02T02:41:50.405978Z",
     "shell.execute_reply": "2023-10-02T02:41:50.404747Z"
    },
    "papermill": {
     "duration": 0.051507,
     "end_time": "2023-10-02T02:41:50.409668",
     "exception": false,
     "start_time": "2023-10-02T02:41:50.358161",
     "status": "completed"
    },
    "tags": []
   },
   "outputs": [],
   "source": [
    "X = df_city[numerical]\n",
    "y = df_city['Suitable']"
   ]
  },
  {
   "cell_type": "markdown",
   "id": "f23a572c",
   "metadata": {
    "papermill": {
     "duration": 0.03664,
     "end_time": "2023-10-02T02:41:50.489714",
     "exception": false,
     "start_time": "2023-10-02T02:41:50.453074",
     "status": "completed"
    },
    "tags": []
   },
   "source": [
    "**Setting up Data Pipeline**"
   ]
  },
  {
   "cell_type": "code",
   "execution_count": 57,
   "id": "8c6c903e",
   "metadata": {
    "execution": {
     "iopub.execute_input": "2023-10-02T02:41:50.554365Z",
     "iopub.status.busy": "2023-10-02T02:41:50.553741Z",
     "iopub.status.idle": "2023-10-02T02:41:50.562486Z",
     "shell.execute_reply": "2023-10-02T02:41:50.561223Z"
    },
    "papermill": {
     "duration": 0.043929,
     "end_time": "2023-10-02T02:41:50.565027",
     "exception": false,
     "start_time": "2023-10-02T02:41:50.521098",
     "status": "completed"
    },
    "tags": []
   },
   "outputs": [],
   "source": [
    "from sklearn.model_selection import train_test_split\n",
    "\n",
    "X_train, X_test, y_train, y_test = train_test_split(X, y, test_size=0.2, random_state=42)"
   ]
  },
  {
   "cell_type": "code",
   "execution_count": 58,
   "id": "816051f4",
   "metadata": {
    "execution": {
     "iopub.execute_input": "2023-10-02T02:41:50.632592Z",
     "iopub.status.busy": "2023-10-02T02:41:50.631607Z",
     "iopub.status.idle": "2023-10-02T02:41:50.652314Z",
     "shell.execute_reply": "2023-10-02T02:41:50.651053Z"
    },
    "papermill": {
     "duration": 0.058393,
     "end_time": "2023-10-02T02:41:50.655055",
     "exception": false,
     "start_time": "2023-10-02T02:41:50.596662",
     "status": "completed"
    },
    "tags": []
   },
   "outputs": [],
   "source": [
    "numerical_transformer = Pipeline([\n",
    "    ('imputer', SimpleImputer(strategy='median')),\n",
    "    ('scaler', StandardScaler())\n",
    "])\n",
    "\n",
    "object_transformer = Pipeline([\n",
    "    ('imputer', SimpleImputer(strategy='most_frequent')),\n",
    "    ('onehot_encoder', OneHotEncoder(drop='first', sparse=False))\n",
    "])\n",
    "\n",
    "# Combine transformers using ColumnTransformer\n",
    "preprocessor = ColumnTransformer(\n",
    "    transformers=[\n",
    "        ('num', numerical_transformer, numerical),\n",
    "      #  ('cat', object_transformer, categorical)\n",
    "    ])\n",
    "X_train_tr = preprocessor.fit_transform(X_train)\n",
    "X_test_tr = preprocessor.fit_transform(X_test)"
   ]
  },
  {
   "cell_type": "markdown",
   "id": "968a7f10",
   "metadata": {
    "papermill": {
     "duration": 0.031388,
     "end_time": "2023-10-02T02:41:50.718969",
     "exception": false,
     "start_time": "2023-10-02T02:41:50.687581",
     "status": "completed"
    },
    "tags": []
   },
   "source": [
    "**Functions for Model Evaluation**"
   ]
  },
  {
   "cell_type": "code",
   "execution_count": 59,
   "id": "b39b99b3",
   "metadata": {
    "execution": {
     "iopub.execute_input": "2023-10-02T02:41:50.784001Z",
     "iopub.status.busy": "2023-10-02T02:41:50.783332Z",
     "iopub.status.idle": "2023-10-02T02:41:50.790444Z",
     "shell.execute_reply": "2023-10-02T02:41:50.789608Z"
    },
    "papermill": {
     "duration": 0.042716,
     "end_time": "2023-10-02T02:41:50.793013",
     "exception": false,
     "start_time": "2023-10-02T02:41:50.750297",
     "status": "completed"
    },
    "tags": []
   },
   "outputs": [],
   "source": [
    "def calculate_metrics(y_test, y_pred_rf, X_test_tr, classifier):\n",
    "    f1 = f1_score(y_test, y_pred_rf)\n",
    "    y_prob = classifier.predict_proba(X_test_tr)[:, 1]\n",
    "    auc_roc = roc_auc_score(y_test, y_prob)\n",
    "    fpr, tpr, thresholds = roc_curve(y_test, y_prob)\n",
    "\n",
    "    # Print F1 score and AUC-ROC\n",
    "    print(\"F1 Score:\", f1)\n",
    "    print(f\"accuracy: {accuracy_score(y_test, y_pred_rf)}\")\n",
    "    print(f\"precision: {precision_score(y_test, y_pred_rf)}\")\n",
    "    print(f\"recall: {recall_score(y_test, y_pred_rf)}\")\n",
    "    print(\"AUC-ROC:\", auc_roc)\n",
    "\n",
    "def calculate_display_cm(y_test, y_pred):\n",
    "    cm = confusion_matrix(y_test, y_pred)\n",
    "\n",
    "    # Display the confusion matrix\n",
    "    print(\"Confusion Matrix:\")\n",
    "    print(cm)\n",
    "\n",
    "    # Optionally, visualize the confusion matrix\n",
    "    sns.heatmap(cm, annot=True, fmt='g', cmap='Blues', annot_kws={\"size\": 16})\n",
    "    plt.title(\"Confusion Matrix\")\n",
    "    plt.show()\n",
    "    "
   ]
  },
  {
   "cell_type": "markdown",
   "id": "025201e3",
   "metadata": {
    "papermill": {
     "duration": 0.03161,
     "end_time": "2023-10-02T02:41:50.857352",
     "exception": false,
     "start_time": "2023-10-02T02:41:50.825742",
     "status": "completed"
    },
    "tags": []
   },
   "source": [
    "**Benchmark for Accuracy Measure**"
   ]
  },
  {
   "cell_type": "code",
   "execution_count": 60,
   "id": "2ead54c5",
   "metadata": {
    "execution": {
     "iopub.execute_input": "2023-10-02T02:41:50.923694Z",
     "iopub.status.busy": "2023-10-02T02:41:50.923032Z",
     "iopub.status.idle": "2023-10-02T02:41:50.934877Z",
     "shell.execute_reply": "2023-10-02T02:41:50.933430Z"
    },
    "papermill": {
     "duration": 0.048601,
     "end_time": "2023-10-02T02:41:50.937625",
     "exception": false,
     "start_time": "2023-10-02T02:41:50.889024",
     "status": "completed"
    },
    "tags": []
   },
   "outputs": [
    {
     "name": "stdout",
     "output_type": "stream",
     "text": [
      "0    102\n",
      "1     34\n",
      "Name: Suitable, dtype: int64\n"
     ]
    },
    {
     "data": {
      "text/plain": [
       "0    0.75\n",
       "1    0.25\n",
       "Name: Suitable, dtype: float64"
      ]
     },
     "execution_count": 60,
     "metadata": {},
     "output_type": "execute_result"
    }
   ],
   "source": [
    "print(y_test.value_counts())\n",
    "y_test.value_counts(normalize=True)"
   ]
  },
  {
   "cell_type": "markdown",
   "id": "b40f8fe8",
   "metadata": {
    "papermill": {
     "duration": 0.033591,
     "end_time": "2023-10-02T02:41:51.002275",
     "exception": false,
     "start_time": "2023-10-02T02:41:50.968684",
     "status": "completed"
    },
    "tags": []
   },
   "source": [
    "In the test set, the '1' outcomes make up 25% of the total results. This means that if we had a model that simply guessed '1' all the time, it would be correct 25% of the time. Our goal is to achieve an accuracy score higher than this baseline. Another reference point is a random model that makes predictions without considering any features."
   ]
  },
  {
   "cell_type": "markdown",
   "id": "cabfb24e",
   "metadata": {
    "papermill": {
     "duration": 0.03228,
     "end_time": "2023-10-02T02:41:51.070605",
     "exception": false,
     "start_time": "2023-10-02T02:41:51.038325",
     "status": "completed"
    },
    "tags": []
   },
   "source": [
    "**Random Estimator**"
   ]
  },
  {
   "cell_type": "code",
   "execution_count": 61,
   "id": "0c5500cf",
   "metadata": {
    "execution": {
     "iopub.execute_input": "2023-10-02T02:41:51.139406Z",
     "iopub.status.busy": "2023-10-02T02:41:51.138478Z",
     "iopub.status.idle": "2023-10-02T02:41:51.143499Z",
     "shell.execute_reply": "2023-10-02T02:41:51.142627Z"
    },
    "papermill": {
     "duration": 0.04286,
     "end_time": "2023-10-02T02:41:51.145546",
     "exception": false,
     "start_time": "2023-10-02T02:41:51.102686",
     "status": "completed"
    },
    "tags": []
   },
   "outputs": [],
   "source": [
    "total_elements = 136\n",
    "random_array = np.random.randint(2, size=total_elements)"
   ]
  },
  {
   "cell_type": "code",
   "execution_count": 62,
   "id": "2800e2ed",
   "metadata": {
    "execution": {
     "iopub.execute_input": "2023-10-02T02:41:51.219249Z",
     "iopub.status.busy": "2023-10-02T02:41:51.218495Z",
     "iopub.status.idle": "2023-10-02T02:41:51.473147Z",
     "shell.execute_reply": "2023-10-02T02:41:51.471739Z"
    },
    "papermill": {
     "duration": 0.293946,
     "end_time": "2023-10-02T02:41:51.475447",
     "exception": false,
     "start_time": "2023-10-02T02:41:51.181501",
     "status": "completed"
    },
    "tags": []
   },
   "outputs": [
    {
     "name": "stdout",
     "output_type": "stream",
     "text": [
      "Confusion Matrix:\n",
      "[[61 41]\n",
      " [16 18]]\n"
     ]
    },
    {
     "data": {
      "image/png": "[encoded data removed]",
      "text/plain": [
       "<Figure size 432x288 with 2 Axes>"
      ]
     },
     "metadata": {
      "needs_background": "light"
     },
     "output_type": "display_data"
    }
   ],
   "source": [
    "cm = calculate_display_cm(y_test, random_array)\n",
    "cm"
   ]
  },
  {
   "cell_type": "markdown",
   "id": "41ca7c0b",
   "metadata": {
    "papermill": {
     "duration": 0.032732,
     "end_time": "2023-10-02T02:41:51.539812",
     "exception": false,
     "start_time": "2023-10-02T02:41:51.507080",
     "status": "completed"
    },
    "tags": []
   },
   "source": [
    "The random model model has achieved an accuracy score of 46%, which appears better than the 'predict all 1s' model but is still not satisfactory. Our objective is to achieve a significantly higher accuracy score than both of these baseline models."
   ]
  },
  {
   "cell_type": "markdown",
   "id": "8ded3e61",
   "metadata": {
    "papermill": {
     "duration": 0.031642,
     "end_time": "2023-10-02T02:41:51.602521",
     "exception": false,
     "start_time": "2023-10-02T02:41:51.570879",
     "status": "completed"
    },
    "tags": []
   },
   "source": [
    "**Logistic Regression**"
   ]
  },
  {
   "cell_type": "code",
   "execution_count": 63,
   "id": "64044cb6",
   "metadata": {
    "execution": {
     "iopub.execute_input": "2023-10-02T02:41:51.667275Z",
     "iopub.status.busy": "2023-10-02T02:41:51.666068Z",
     "iopub.status.idle": "2023-10-02T02:41:51.687779Z",
     "shell.execute_reply": "2023-10-02T02:41:51.686223Z"
    },
    "papermill": {
     "duration": 0.057274,
     "end_time": "2023-10-02T02:41:51.690692",
     "exception": false,
     "start_time": "2023-10-02T02:41:51.633418",
     "status": "completed"
    },
    "tags": []
   },
   "outputs": [],
   "source": [
    "from sklearn.linear_model import LogisticRegression\n",
    "\n",
    "log_reg = LogisticRegression()\n",
    "log_reg.fit(X_train_tr, y_train)\n",
    "\n",
    "y_pred_log_reg = log_reg.predict(X_test_tr)"
   ]
  },
  {
   "cell_type": "code",
   "execution_count": 64,
   "id": "00485499",
   "metadata": {
    "execution": {
     "iopub.execute_input": "2023-10-02T02:41:51.755733Z",
     "iopub.status.busy": "2023-10-02T02:41:51.755328Z",
     "iopub.status.idle": "2023-10-02T02:41:51.770007Z",
     "shell.execute_reply": "2023-10-02T02:41:51.768365Z"
    },
    "papermill": {
     "duration": 0.050521,
     "end_time": "2023-10-02T02:41:51.772456",
     "exception": false,
     "start_time": "2023-10-02T02:41:51.721935",
     "status": "completed"
    },
    "tags": []
   },
   "outputs": [
    {
     "name": "stdout",
     "output_type": "stream",
     "text": [
      "F1 Score: 0.3666666666666667\n",
      "accuracy: 0.7205882352941176\n",
      "precision: 0.4230769230769231\n",
      "recall: 0.3235294117647059\n",
      "AUC-ROC: 0.8367935409457901\n"
     ]
    }
   ],
   "source": [
    "calculate_metrics(y_test, y_pred_log_reg, X_test_tr, log_reg)"
   ]
  },
  {
   "cell_type": "code",
   "execution_count": 65,
   "id": "f0e98caa",
   "metadata": {
    "execution": {
     "iopub.execute_input": "2023-10-02T02:41:51.840225Z",
     "iopub.status.busy": "2023-10-02T02:41:51.838811Z",
     "iopub.status.idle": "2023-10-02T02:41:52.081887Z",
     "shell.execute_reply": "2023-10-02T02:41:52.080740Z"
    },
    "papermill": {
     "duration": 0.279246,
     "end_time": "2023-10-02T02:41:52.084213",
     "exception": false,
     "start_time": "2023-10-02T02:41:51.804967",
     "status": "completed"
    },
    "tags": []
   },
   "outputs": [
    {
     "name": "stdout",
     "output_type": "stream",
     "text": [
      "Confusion Matrix:\n",
      "[[87 15]\n",
      " [23 11]]\n"
     ]
    },
    {
     "data": {
      "image/png": "[encoded data removed]",
      "text/plain": [
       "<Figure size 432x288 with 2 Axes>"
      ]
     },
     "metadata": {
      "needs_background": "light"
     },
     "output_type": "display_data"
    }
   ],
   "source": [
    "calculate_display_cm(y_test, y_pred_log_reg)"
   ]
  },
  {
   "cell_type": "markdown",
   "id": "906e9263",
   "metadata": {
    "papermill": {
     "duration": 0.03278,
     "end_time": "2023-10-02T02:41:52.150709",
     "exception": false,
     "start_time": "2023-10-02T02:41:52.117929",
     "status": "completed"
    },
    "tags": []
   },
   "source": [
    "**Random Forest**"
   ]
  },
  {
   "cell_type": "code",
   "execution_count": 66,
   "id": "7163fe8f",
   "metadata": {
    "execution": {
     "iopub.execute_input": "2023-10-02T02:41:52.221929Z",
     "iopub.status.busy": "2023-10-02T02:41:52.221424Z",
     "iopub.status.idle": "2023-10-02T02:41:52.438008Z",
     "shell.execute_reply": "2023-10-02T02:41:52.436404Z"
    },
    "papermill": {
     "duration": 0.25431,
     "end_time": "2023-10-02T02:41:52.440629",
     "exception": false,
     "start_time": "2023-10-02T02:41:52.186319",
     "status": "completed"
    },
    "tags": []
   },
   "outputs": [],
   "source": [
    "from sklearn.ensemble import RandomForestClassifier\n",
    "\n",
    "rnd_clf = RandomForestClassifier(n_estimators=1, n_jobs=-1)\n",
    "rnd_clf.fit(X_train_tr, y_train)\n",
    "\n",
    "y_pred_rf = rnd_clf.predict(X_test_tr)"
   ]
  },
  {
   "cell_type": "code",
   "execution_count": 67,
   "id": "bf09a1a1",
   "metadata": {
    "execution": {
     "iopub.execute_input": "2023-10-02T02:41:52.508144Z",
     "iopub.status.busy": "2023-10-02T02:41:52.507689Z",
     "iopub.status.idle": "2023-10-02T02:41:52.523604Z",
     "shell.execute_reply": "2023-10-02T02:41:52.521858Z"
    },
    "papermill": {
     "duration": 0.052135,
     "end_time": "2023-10-02T02:41:52.526313",
     "exception": false,
     "start_time": "2023-10-02T02:41:52.474178",
     "status": "completed"
    },
    "tags": []
   },
   "outputs": [
    {
     "name": "stdout",
     "output_type": "stream",
     "text": [
      "F1 Score: 0.72\n",
      "accuracy: 0.8455882352941176\n",
      "precision: 0.6585365853658537\n",
      "recall: 0.7941176470588235\n",
      "AUC-ROC: 0.8284313725490196\n"
     ]
    }
   ],
   "source": [
    "calculate_metrics(y_test, y_pred_rf, X_test_tr, rnd_clf)"
   ]
  },
  {
   "cell_type": "code",
   "execution_count": 68,
   "id": "9584dc5f",
   "metadata": {
    "execution": {
     "iopub.execute_input": "2023-10-02T02:41:52.597787Z",
     "iopub.status.busy": "2023-10-02T02:41:52.597377Z",
     "iopub.status.idle": "2023-10-02T02:41:52.844290Z",
     "shell.execute_reply": "2023-10-02T02:41:52.843228Z"
    },
    "papermill": {
     "duration": 0.285108,
     "end_time": "2023-10-02T02:41:52.846463",
     "exception": false,
     "start_time": "2023-10-02T02:41:52.561355",
     "status": "completed"
    },
    "tags": []
   },
   "outputs": [
    {
     "name": "stdout",
     "output_type": "stream",
     "text": [
      "Confusion Matrix:\n",
      "[[88 14]\n",
      " [ 7 27]]\n"
     ]
    },
    {
     "data": {
      "image/png": "[encoded data removed]",
      "text/plain": [
       "<Figure size 432x288 with 2 Axes>"
      ]
     },
     "metadata": {
      "needs_background": "light"
     },
     "output_type": "display_data"
    }
   ],
   "source": [
    "calculate_display_cm(y_test, y_pred_rf)"
   ]
  },
  {
   "cell_type": "markdown",
   "id": "e8c155fc",
   "metadata": {
    "papermill": {
     "duration": 0.032912,
     "end_time": "2023-10-02T02:41:52.913066",
     "exception": false,
     "start_time": "2023-10-02T02:41:52.880154",
     "status": "completed"
    },
    "tags": []
   },
   "source": [
    "**Random Forest Grid Search**"
   ]
  },
  {
   "cell_type": "code",
   "execution_count": 69,
   "id": "aff9c105",
   "metadata": {
    "execution": {
     "iopub.execute_input": "2023-10-02T02:41:52.982220Z",
     "iopub.status.busy": "2023-10-02T02:41:52.981435Z",
     "iopub.status.idle": "2023-10-02T02:42:25.128258Z",
     "shell.execute_reply": "2023-10-02T02:42:25.126366Z"
    },
    "papermill": {
     "duration": 32.21619,
     "end_time": "2023-10-02T02:42:25.163123",
     "exception": false,
     "start_time": "2023-10-02T02:41:52.946933",
     "status": "completed"
    },
    "tags": []
   },
   "outputs": [
    {
     "name": "stdout",
     "output_type": "stream",
     "text": [
      "Best Hyperparameters: {'max_depth': 20, 'min_samples_leaf': 1, 'min_samples_split': 5, 'n_estimators': 50}\n",
      "Best Model: RandomForestClassifier(max_depth=20, min_samples_split=5, n_estimators=50)\n"
     ]
    }
   ],
   "source": [
    "rnd_clf = RandomForestClassifier()\n",
    "\n",
    "# Define the hyperparameter grid to search\n",
    "param_grid = {\n",
    "    'n_estimators': [10, 50, 100],  # Number of trees in the forest\n",
    "    'max_depth': [20, 30, 40],  # Maximum depth of the trees\n",
    "    'min_samples_split': [5, 10, 15],  # Minimum number of samples required to split an internal node\n",
    "    'min_samples_leaf': [1, 2, 4]  # Minimum number of samples required to be at a leaf node\n",
    "}\n",
    "\n",
    "# Create a GridSearchCV object with the classifier and parameter grid\n",
    "grid_search = GridSearchCV(estimator=rnd_clf, param_grid=param_grid, cv=10, n_jobs=-1)\n",
    "\n",
    "# Fit the grid search to the data\n",
    "grid_search.fit(X_train_tr, y_train)\n",
    "\n",
    "# Get the best hyperparameters and corresponding model\n",
    "best_params = grid_search.best_params_\n",
    "best_model = grid_search.best_estimator_\n",
    "\n",
    "# Print the best hyperparameters and corresponding model\n",
    "print(\"Best Hyperparameters:\", best_params)\n",
    "print(\"Best Model:\", best_model)"
   ]
  },
  {
   "cell_type": "code",
   "execution_count": 70,
   "id": "afa97f1d",
   "metadata": {
    "execution": {
     "iopub.execute_input": "2023-10-02T02:42:25.231554Z",
     "iopub.status.busy": "2023-10-02T02:42:25.231094Z",
     "iopub.status.idle": "2023-10-02T02:42:25.402611Z",
     "shell.execute_reply": "2023-10-02T02:42:25.401206Z"
    },
    "papermill": {
     "duration": 0.209637,
     "end_time": "2023-10-02T02:42:25.405566",
     "exception": false,
     "start_time": "2023-10-02T02:42:25.195929",
     "status": "completed"
    },
    "tags": []
   },
   "outputs": [],
   "source": [
    "rnd_clf_grid = RandomForestClassifier(max_depth = 20, min_samples_split = 5,\n",
    "                                      n_estimators = 100)\n",
    "rnd_clf_grid.fit(X_train_tr, y_train) \n",
    "\n",
    "y_pred_rf_grid = rnd_clf_grid.predict(X_test_tr)"
   ]
  },
  {
   "cell_type": "code",
   "execution_count": 71,
   "id": "436d344b",
   "metadata": {
    "execution": {
     "iopub.execute_input": "2023-10-02T02:42:25.473967Z",
     "iopub.status.busy": "2023-10-02T02:42:25.472502Z",
     "iopub.status.idle": "2023-10-02T02:42:25.499238Z",
     "shell.execute_reply": "2023-10-02T02:42:25.497995Z"
    },
    "papermill": {
     "duration": 0.06274,
     "end_time": "2023-10-02T02:42:25.501431",
     "exception": false,
     "start_time": "2023-10-02T02:42:25.438691",
     "status": "completed"
    },
    "tags": []
   },
   "outputs": [
    {
     "name": "stdout",
     "output_type": "stream",
     "text": [
      "F1 Score: 0.72\n",
      "accuracy: 0.8455882352941176\n",
      "precision: 0.6585365853658537\n",
      "recall: 0.7941176470588235\n",
      "AUC-ROC: 0.939878892733564\n"
     ]
    }
   ],
   "source": [
    "calculate_metrics(y_test, y_pred_rf_grid, X_test_tr, rnd_clf_grid)"
   ]
  },
  {
   "cell_type": "code",
   "execution_count": 72,
   "id": "2524f23e",
   "metadata": {
    "execution": {
     "iopub.execute_input": "2023-10-02T02:42:25.568446Z",
     "iopub.status.busy": "2023-10-02T02:42:25.567981Z",
     "iopub.status.idle": "2023-10-02T02:42:25.820501Z",
     "shell.execute_reply": "2023-10-02T02:42:25.819020Z"
    },
    "papermill": {
     "duration": 0.289054,
     "end_time": "2023-10-02T02:42:25.823180",
     "exception": false,
     "start_time": "2023-10-02T02:42:25.534126",
     "status": "completed"
    },
    "tags": []
   },
   "outputs": [
    {
     "name": "stdout",
     "output_type": "stream",
     "text": [
      "Confusion Matrix:\n",
      "[[88 14]\n",
      " [ 7 27]]\n"
     ]
    },
    {
     "data": {
      "image/png": "[encoded data removed]",
      "text/plain": [
       "<Figure size 432x288 with 2 Axes>"
      ]
     },
     "metadata": {
      "needs_background": "light"
     },
     "output_type": "display_data"
    }
   ],
   "source": [
    "calculate_display_cm(y_test, y_pred_rf_grid)"
   ]
  }
 ],
 "metadata": {
  "kernelspec": {
   "display_name": "Python 3",
   "language": "python",
   "name": "python3"
  },
  "language_info": {
   "codemirror_mode": {
    "name": "ipython",
    "version": 3
   },
   "file_extension": ".py",
   "mimetype": "text/x-python",
   "name": "python",
   "nbconvert_exporter": "python",
   "pygments_lexer": "ipython3",
   "version": "3.7.12"
  },
  "papermill": {
   "default_parameters": {},
   "duration": 74.532973,
   "end_time": "2023-10-02T02:42:28.480160",
   "environment_variables": {},
   "exception": null,
   "input_path": "__notebook__.ipynb",
   "output_path": "__notebook__.ipynb",
   "parameters": {},
   "start_time": "2023-10-02T02:41:13.947187",
   "version": "2.3.4"
  }
 },
 "nbformat": 4,
 "nbformat_minor": 5
}
